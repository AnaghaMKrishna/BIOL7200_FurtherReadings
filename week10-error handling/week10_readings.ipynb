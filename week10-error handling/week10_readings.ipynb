{
 "cells": [
  {
   "cell_type": "markdown",
   "metadata": {},
   "source": [
    "# Week 10 Readings"
   ]
  },
  {
   "cell_type": "markdown",
   "metadata": {
    "editable": true,
    "slideshow": {
     "slide_type": ""
    },
    "tags": []
   },
   "source": [
    "Every programming language enforces certain \"rules\" for a program to execute successfully and produce the output we expect. These \"rules\" constitute the **syntax** and **semantics** of the language. **_Syntax_** refers to the rules governing the structure and arrangement of symbols in a program determining a valid line of code, while **_semantics_** describes the meaning behind those symbols and how they are interpreted to perform operations defining what the code does when executed. In simple terms, syntax acts as the \"grammar\" and semantics as the \"meaning\" of a programming language.\n",
    "\n",
    "Python has a simple but elegant syntax compared to many other programming languages making it user-friendly and easily readable. However, when we do not follow the syntax defined by Python, it errors out. We have all experienced that at some point in our programming journey, but syntax errors are not a major cause of concern anymore as IDEs have built-in \"intelligence\" to parse through the code and highlight incorrect syntax. Essentially, when a Python script fails, it is either because of incorrect syntax or some \"exception\" that occurred. Error handling becomes important as we don't want our program to crash at least when it encounters known and expected errors but instead handle those gracefully to let the user know there was an error. We saw some examples of exceptions in class and also a demo for handling errors. Let's quickly recap what we learned using a different example and build on it step-by-step.\n",
    "\n",
    "To illustrate these, let's assume we are developing a tool to perform some analysis for which reading and validating a FASTA file is the first step. A few checks we can think of to read and validate the FASTA file are checking if\n",
    "\n",
    "* FASTA file exists and is in the path mentioned.\n",
    "* header lines start with \">\"\n",
    "* header lines are followed by one or more lines of sequences\n",
    "* it has invalid bases. Let's assume the sequences can contain only 'A', 'a', 'T', 't', 'C', 'c', 'G', 'g', 'N' and 'n'.\n",
    "\n",
    "To follow along, you can either copy the Vibrio_cholerae_N16961.fna to your current working directory or download the files attached in the discussion post. It is obvious that if the file does not exist, or we provide an incorrect path, Python cannot read the file resulting in an exception. Let's see what the exception is:"
   ]
  },
  {
   "cell_type": "code",
   "execution_count": 1,
   "metadata": {},
   "outputs": [
    {
     "ename": "FileNotFoundError",
     "evalue": "[Errno 2] No such file or directory: 'dummy.fasta'",
     "output_type": "error",
     "traceback": [
      "\u001b[0;31m---------------------------------------------------------------------------\u001b[0m",
      "\u001b[0;31mFileNotFoundError\u001b[0m                         Traceback (most recent call last)",
      "Cell \u001b[0;32mIn[1], line 2\u001b[0m\n\u001b[1;32m      1\u001b[0m \u001b[38;5;66;03m#try to read a non-existent file\u001b[39;00m\n\u001b[0;32m----> 2\u001b[0m \u001b[38;5;28;01mwith\u001b[39;00m \u001b[38;5;28;43mopen\u001b[39;49m\u001b[43m(\u001b[49m\u001b[38;5;124;43m\"\u001b[39;49m\u001b[38;5;124;43mdummy.fasta\u001b[39;49m\u001b[38;5;124;43m\"\u001b[39;49m\u001b[43m)\u001b[49m \u001b[38;5;28;01mas\u001b[39;00m fin:\n\u001b[1;32m      3\u001b[0m     fin\u001b[38;5;241m.\u001b[39mreadlines()\n\u001b[1;32m      4\u001b[0m \u001b[38;5;28mprint\u001b[39m(\u001b[38;5;124m\"\u001b[39m\u001b[38;5;124mThis doesn\u001b[39m\u001b[38;5;124m'\u001b[39m\u001b[38;5;124mt print\u001b[39m\u001b[38;5;124m\"\u001b[39m)\n",
      "File \u001b[0;32m~/mambaforge/envs/juppy312/lib/python3.12/site-packages/IPython/core/interactiveshell.py:286\u001b[0m, in \u001b[0;36m_modified_open\u001b[0;34m(file, *args, **kwargs)\u001b[0m\n\u001b[1;32m    279\u001b[0m \u001b[38;5;28;01mif\u001b[39;00m file \u001b[38;5;129;01min\u001b[39;00m {\u001b[38;5;241m0\u001b[39m, \u001b[38;5;241m1\u001b[39m, \u001b[38;5;241m2\u001b[39m}:\n\u001b[1;32m    280\u001b[0m     \u001b[38;5;28;01mraise\u001b[39;00m \u001b[38;5;167;01mValueError\u001b[39;00m(\n\u001b[1;32m    281\u001b[0m         \u001b[38;5;124mf\u001b[39m\u001b[38;5;124m\"\u001b[39m\u001b[38;5;124mIPython won\u001b[39m\u001b[38;5;124m'\u001b[39m\u001b[38;5;124mt let you open fd=\u001b[39m\u001b[38;5;132;01m{\u001b[39;00mfile\u001b[38;5;132;01m}\u001b[39;00m\u001b[38;5;124m by default \u001b[39m\u001b[38;5;124m\"\u001b[39m\n\u001b[1;32m    282\u001b[0m         \u001b[38;5;124m\"\u001b[39m\u001b[38;5;124mas it is likely to crash IPython. If you know what you are doing, \u001b[39m\u001b[38;5;124m\"\u001b[39m\n\u001b[1;32m    283\u001b[0m         \u001b[38;5;124m\"\u001b[39m\u001b[38;5;124myou can use builtins\u001b[39m\u001b[38;5;124m'\u001b[39m\u001b[38;5;124m open.\u001b[39m\u001b[38;5;124m\"\u001b[39m\n\u001b[1;32m    284\u001b[0m     )\n\u001b[0;32m--> 286\u001b[0m \u001b[38;5;28;01mreturn\u001b[39;00m \u001b[43mio_open\u001b[49m\u001b[43m(\u001b[49m\u001b[43mfile\u001b[49m\u001b[43m,\u001b[49m\u001b[43m \u001b[49m\u001b[38;5;241;43m*\u001b[39;49m\u001b[43margs\u001b[49m\u001b[43m,\u001b[49m\u001b[43m \u001b[49m\u001b[38;5;241;43m*\u001b[39;49m\u001b[38;5;241;43m*\u001b[39;49m\u001b[43mkwargs\u001b[49m\u001b[43m)\u001b[49m\n",
      "\u001b[0;31mFileNotFoundError\u001b[0m: [Errno 2] No such file or directory: 'dummy.fasta'"
     ]
    }
   ],
   "source": [
    "#try to read a non-existent file\n",
    "with open(\"dummy.fasta\") as fin:\n",
    "    fin.readlines()\n",
    "print(\"This doesn't print\")"
   ]
  },
  {
   "cell_type": "code",
   "execution_count": 2,
   "metadata": {},
   "outputs": [
    {
     "ename": "FileNotFoundError",
     "evalue": "[Errno 2] No such file or directory: '/fake/path/Vibrio_cholerae_N16961.fna'",
     "output_type": "error",
     "traceback": [
      "\u001b[0;31m---------------------------------------------------------------------------\u001b[0m",
      "\u001b[0;31mFileNotFoundError\u001b[0m                         Traceback (most recent call last)",
      "Cell \u001b[0;32mIn[2], line 2\u001b[0m\n\u001b[1;32m      1\u001b[0m \u001b[38;5;66;03m#give a fake path\u001b[39;00m\n\u001b[0;32m----> 2\u001b[0m \u001b[38;5;28;01mwith\u001b[39;00m \u001b[38;5;28;43mopen\u001b[39;49m\u001b[43m(\u001b[49m\u001b[38;5;124;43m\"\u001b[39;49m\u001b[38;5;124;43m/fake/path/Vibrio_cholerae_N16961.fna\u001b[39;49m\u001b[38;5;124;43m\"\u001b[39;49m\u001b[43m)\u001b[49m \u001b[38;5;28;01mas\u001b[39;00m fin:\n\u001b[1;32m      3\u001b[0m     lines \u001b[38;5;241m=\u001b[39m fin\u001b[38;5;241m.\u001b[39mreadlines()\n\u001b[1;32m      4\u001b[0m     \u001b[38;5;28mprint\u001b[39m(lines[:\u001b[38;5;241m10\u001b[39m])\n",
      "File \u001b[0;32m~/mambaforge/envs/juppy312/lib/python3.12/site-packages/IPython/core/interactiveshell.py:286\u001b[0m, in \u001b[0;36m_modified_open\u001b[0;34m(file, *args, **kwargs)\u001b[0m\n\u001b[1;32m    279\u001b[0m \u001b[38;5;28;01mif\u001b[39;00m file \u001b[38;5;129;01min\u001b[39;00m {\u001b[38;5;241m0\u001b[39m, \u001b[38;5;241m1\u001b[39m, \u001b[38;5;241m2\u001b[39m}:\n\u001b[1;32m    280\u001b[0m     \u001b[38;5;28;01mraise\u001b[39;00m \u001b[38;5;167;01mValueError\u001b[39;00m(\n\u001b[1;32m    281\u001b[0m         \u001b[38;5;124mf\u001b[39m\u001b[38;5;124m\"\u001b[39m\u001b[38;5;124mIPython won\u001b[39m\u001b[38;5;124m'\u001b[39m\u001b[38;5;124mt let you open fd=\u001b[39m\u001b[38;5;132;01m{\u001b[39;00mfile\u001b[38;5;132;01m}\u001b[39;00m\u001b[38;5;124m by default \u001b[39m\u001b[38;5;124m\"\u001b[39m\n\u001b[1;32m    282\u001b[0m         \u001b[38;5;124m\"\u001b[39m\u001b[38;5;124mas it is likely to crash IPython. If you know what you are doing, \u001b[39m\u001b[38;5;124m\"\u001b[39m\n\u001b[1;32m    283\u001b[0m         \u001b[38;5;124m\"\u001b[39m\u001b[38;5;124myou can use builtins\u001b[39m\u001b[38;5;124m'\u001b[39m\u001b[38;5;124m open.\u001b[39m\u001b[38;5;124m\"\u001b[39m\n\u001b[1;32m    284\u001b[0m     )\n\u001b[0;32m--> 286\u001b[0m \u001b[38;5;28;01mreturn\u001b[39;00m \u001b[43mio_open\u001b[49m\u001b[43m(\u001b[49m\u001b[43mfile\u001b[49m\u001b[43m,\u001b[49m\u001b[43m \u001b[49m\u001b[38;5;241;43m*\u001b[39;49m\u001b[43margs\u001b[49m\u001b[43m,\u001b[49m\u001b[43m \u001b[49m\u001b[38;5;241;43m*\u001b[39;49m\u001b[38;5;241;43m*\u001b[39;49m\u001b[43mkwargs\u001b[49m\u001b[43m)\u001b[49m\n",
      "\u001b[0;31mFileNotFoundError\u001b[0m: [Errno 2] No such file or directory: '/fake/path/Vibrio_cholerae_N16961.fna'"
     ]
    }
   ],
   "source": [
    "#give a fake path\n",
    "with open(\"/fake/path/Vibrio_cholerae_N16961.fna\") as fin:\n",
    "    lines = fin.readlines()\n",
    "    print(lines[:10])\n",
    "print(\"This doesn't print\")"
   ]
  },
  {
   "cell_type": "markdown",
   "metadata": {},
   "source": [
    "Both of these resulted in \"FileNotFoundError\" exception. As we already know, we can use `try` and `except` to handle this exception.\n",
    "\n",
    "So if we now try to read the FASTA file from an invalid path, it should not throw an error and terminate the execution of the program, but rather print the message or \"handle the error\". Notice the print statement after this block now gets executed."
   ]
  },
  {
   "cell_type": "code",
   "execution_count": 3,
   "metadata": {},
   "outputs": [
    {
     "name": "stdout",
     "output_type": "stream",
     "text": [
      "File does not exist\n",
      "This still prints\n"
     ]
    }
   ],
   "source": [
    "try:\n",
    "    with open(\"/fake/path/Vibrio_cholerae_N16961.fna\") as fin:\n",
    "        lines = fin.readlines()\n",
    "        print(lines[:10])\n",
    "except FileNotFoundError:\n",
    "    print(\"File does not exist\")\n",
    "print(\"This still prints\")"
   ]
  },
  {
   "cell_type": "markdown",
   "metadata": {},
   "source": [
    "If we give the name of the file that exists and is in the correct path:"
   ]
  },
  {
   "cell_type": "code",
   "execution_count": 4,
   "metadata": {},
   "outputs": [
    {
     "name": "stdout",
     "output_type": "stream",
     "text": [
      "['>NZ_CP028827.1 Vibrio cholerae strain N16961 chromosome 1, complete sequence\\n', 'GTGTCATCTTCGCTATGGTTGCAATGTTTGCAACGGCTTCAGGAAGAGCTACCTGCCGCAGAATTCAGTATGTGGGTGCG\\n', 'TCCGCTTCAAGCGGAGCTCAATGACAATACTCTCACTTTATTCGCCCCGAACCGCTTTGTGTTGGATTGGGTACGCGATA\\n', 'AGTACCTCAATAACATCAATCGTCTGCTGATGGAATTCAGTGGCAATGATGTGCCTAATTTGCGCTTTGAAGTGGGGAGC\\n', 'CGCCCTGTGGTGGCGCCAAAACCCGCGCCTGTACGTACGGCTGCGGATGTCGCGGCGGAATCGTCGGCGCCTGCGCAATT\\n', 'GGCGCAGCGTAAACCTATCCATAAAACCTGGGATGATGACAGTGCTGCGGCTGATATTACTCACCGCTCAAATGTGAACC\\n', 'CGAAACACAAGTTCAACAACTTCGTGGAAGGTAAATCTAACCAGTTAGGTCTGGCCGCGGCTCGCCAAGTCTCTGATAAC\\n', 'CCAGGTGCGGCGTATAACCCCCTCTTTTTGTATGGCGGCACCGGTTTGGGTAAAACGCACTTGCTGCATGCGGTGGGTAA\\n', 'CGCGATTGTTGATAACAACCCGAACGCTAAAGTGGTGTACATGCACTCTGAGCGTTTCGTGCAAGACATGGTAAAAGCCC\\n', 'TGCAGAACAACGCGATTGAAGAATTCAAACGCTACTATCGCAGTGTAGATGCCTTGTTGATCGACGATATTCAATTCTTT\\n']\n",
      "This prints\n"
     ]
    }
   ],
   "source": [
    "try:\n",
    "    with open(\"Vibrio_cholerae_N16961.fna\") as fin:\n",
    "        lines = fin.readlines()\n",
    "        print(lines[:10])\n",
    "except FileNotFoundError:\n",
    "    print(\"File does not exist\")\n",
    "print(\"This prints\")"
   ]
  },
  {
   "cell_type": "markdown",
   "metadata": {},
   "source": [
    "So far, even though not in the context of validating a FASTA file, we have used `if` and `else` statements to parse the contents. Let us use conditionals to validate the content of the FASTA file:"
   ]
  },
  {
   "cell_type": "code",
   "execution_count": 5,
   "metadata": {},
   "outputs": [
    {
     "name": "stdout",
     "output_type": "stream",
     "text": [
      "Valid FASTA\n"
     ]
    }
   ],
   "source": [
    "#set containing valid bases\n",
    "bases = {'A', 'a', 'T', 't', 'C', 'c', 'G', 'g', 'N', 'n'}\n",
    "header_flag = False\n",
    "validbase_flag = True\n",
    "\n",
    "try:\n",
    "    with open(\"Vibrio_cholerae_N16961.fna\") as fin:\n",
    "        lines = fin.readlines()\n",
    "        for line in lines:\n",
    "            line = line.strip()\n",
    "            if line.startswith(\">\"): #header line\n",
    "                header_flag = True\n",
    "            else:                    #sequences\n",
    "                if not header_flag:  #sequence line before header\n",
    "                    break\n",
    "                if not set(line).issubset(bases): #check for valid bases\n",
    "                    validbase_flag = False\n",
    "                    break\n",
    "\n",
    "    if header_flag and validbase_flag:\n",
    "        print(\"Valid FASTA\")\n",
    "    elif not header_flag:\n",
    "        print(\"Invalid FASTA, no header line\")\n",
    "    elif not validbase_flag:\n",
    "        print(\"Invalid FASTA, has invalid bases\")\n",
    "            \n",
    "except FileNotFoundError:\n",
    "    print(\"File does not exist\")"
   ]
  },
  {
   "cell_type": "markdown",
   "metadata": {},
   "source": [
    "If we give a FASTA file, say for example, with invalid bases:"
   ]
  },
  {
   "cell_type": "code",
   "execution_count": 6,
   "metadata": {},
   "outputs": [
    {
     "name": "stdout",
     "output_type": "stream",
     "text": [
      "Invalid FASTA, has invalid bases\n"
     ]
    }
   ],
   "source": [
    "#set containing valid bases\n",
    "bases = {'A', 'a', 'T', 't', 'C', 'c', 'G', 'g', 'N', 'n'}\n",
    "header_flag = False\n",
    "validbase_flag = True\n",
    "\n",
    "try:\n",
    "    with open(\"invalid_base.fna\") as fin:\n",
    "        lines = fin.readlines()\n",
    "        for line in lines:\n",
    "            line = line.strip()\n",
    "            if line.startswith(\">\"): #header line\n",
    "                header_flag = True\n",
    "            else:                    #sequences\n",
    "                if not header_flag:  #sequence line before header\n",
    "                    break\n",
    "                if not set(line).issubset(bases): #check for valid bases\n",
    "                    validbase_flag = False\n",
    "                    break\n",
    "\n",
    "    if header_flag and validbase_flag:\n",
    "        print(\"Valid FASTA\")\n",
    "    elif not header_flag:\n",
    "        print(\"Invalid FASTA, no header line\")\n",
    "    elif not validbase_flag:\n",
    "        print(\"Invalid FASTA, has invalid bases\")\n",
    "            \n",
    "except FileNotFoundError:\n",
    "    print(\"File does not exist\")"
   ]
  },
  {
   "cell_type": "markdown",
   "metadata": {},
   "source": [
    "There are a couple of (not technical, but rather design) issues with the above code. It is clumsy and less readable because we have multiple conditional statements to validate the FASTA contents and set boolean flags which are evaluated later using another `if`-`else` block to finally decide if the FASTA file is valid. Moreover, as we start adding more checks(for example, if we decide to allow newline characters), the code starts getting more complicated because we have to use more boolean flags and conditionals to check these flags before we decide if the file is valid. \n",
    "\n",
    "So, is there a better way to do it? Yes, and that is using `try`-`except`! But we did not get any error, so why use `try`-`except`? The answer lies in two different approaches we can think about when handling errors:\n",
    "* Think about all the scenarios in our code that might fail(here, an extensive list of checks to validate FASTA file) and write conditionals to handle all those.\n",
    "* Let the errors happen and deal with them later using `try`-`except`.\n",
    "\n",
    "In the code above, we followed the first approach. Let's rewrite the code using the second approach and see what difference it makes:"
   ]
  },
  {
   "cell_type": "code",
   "execution_count": 7,
   "metadata": {},
   "outputs": [
    {
     "name": "stdout",
     "output_type": "stream",
     "text": [
      "Invalid FASTA, no header line\n"
     ]
    }
   ],
   "source": [
    "#set containing valid bases\n",
    "bases = {'A', 'a', 'T', 't', 'C', 'c', 'G', 'g', 'N', 'n'}\n",
    "header_flag = False\n",
    "\n",
    "try:\n",
    "    with open(\"invalid_header.fna\") as fin:\n",
    "        lines = fin.readlines()\n",
    "        for line in lines:\n",
    "            line = line.strip()\n",
    "            if line.startswith(\">\"): #header line\n",
    "                header_flag = True\n",
    "            else:                    #sequences\n",
    "                if not header_flag:  #sequence line before header\n",
    "                    raise ValueError(\"Invalid FASTA, no header line\")\n",
    "                if not set(line).issubset(bases): #invalid bases\n",
    "                    raise ValueError(\"Invalid FASTA, has invalid bases\")\n",
    "            \n",
    "except FileNotFoundError:\n",
    "    print(\"File does not exist\")\n",
    "except ValueError as value_error:\n",
    "    print(value_error)"
   ]
  },
  {
   "cell_type": "code",
   "execution_count": 8,
   "metadata": {},
   "outputs": [
    {
     "name": "stdout",
     "output_type": "stream",
     "text": [
      "Invalid FASTA, has invalid bases\n"
     ]
    }
   ],
   "source": [
    "#set containing valid bases\n",
    "bases = {'A', 'a', 'T', 't', 'C', 'c', 'G', 'g', 'N', 'n'}\n",
    "header_flag = False\n",
    "\n",
    "try:\n",
    "    with open(\"invalid_base.fna\") as fin:\n",
    "        lines = fin.readlines()\n",
    "        for line in lines:\n",
    "            line = line.strip()\n",
    "            if line.startswith(\">\"): #header line\n",
    "                header_flag = True\n",
    "            else:                    #sequences\n",
    "                if not header_flag:  #sequence line before header\n",
    "                    raise ValueError(\"Invalid FASTA, no header line\")\n",
    "                if not set(line).issubset(bases): #invalid bases\n",
    "                    raise ValueError(\"Invalid FASTA, has invalid bases\")\n",
    "            \n",
    "except FileNotFoundError:\n",
    "    print(\"File does not exist\")\n",
    "except ValueError as value_error:\n",
    "    print(value_error)"
   ]
  },
  {
   "cell_type": "markdown",
   "metadata": {},
   "source": [
    "As we can see, the code is more concise and readable than when we just used conditional statements. Moreover, we were able to completely get rid of the `if`-`else` block for checking the flags to validate the FASTA contents.\n",
    "\n",
    "In fact, there are programmer-defined terminologies for these two approaches: the first using conditionals is called \"Look Before You Leap\"(LBYL) and the second using `try`-`except` goes by the name \"Easier to ask forgiveness than permission\"(EAFP)! The [Python documentation](https://docs.python.org/3.6/glossary.html) defines these two strategies as below:\n",
    "\n",
    ">  Look Before You Leap: This coding style explicitly tests for pre-conditions before making calls or lookups. This style contrasts with the EAFP approach and is characterized by the presence of many if statements.\n",
    "\n",
    "\n",
    "> Easier to ask for forgiveness than permission: This common Python coding style assumes the existence of valid keys or attributes and catches exceptions if the assumption proves false. This clean and fast style is characterized by the presence of many try and except statements. The technique contrasts with the LBYL style common to many other languages such as C.\n",
    "\n",
    "The next obvious question is how do we decide between `if`-`else` or `try`-`except`? Is something recommended over the other? A popular opinion is that EAFP is the more \"Pythonic\" way. However, Python is flexible and allows the developer to choose either, depending on the situation. Some considerations to decide which approach is better:\n",
    "* How often do we expect to see the errors? If it's very common, handle it using conditional statements. If errors are rare, then use `try`-`except`. This is because there is a cost associated with exceptions raised using `try`-`except` which we'll learn in a minute.\n",
    "* Readability - As we just saw, in general, EAFP makes code more readable than LBYL.\n",
    "* Performance and optimization - The main reason EAFP is considered \"Pythonic\" is that exception handling in Python is fast and efficient. From [version 3.11](https://docs.python.org/3.11/whatsnew/3.11.html#misc) onwards, Python supports \"zero-cost optimizations\" which implies that the cost of try statements is almost nil when no exception is raised. You can check the time comparisons of using `if`-`else` and `try`-`except` [here](https://stackoverflow.com/a/1835844). In addition, Python has necessary checks for potential problems built into the language itself and comes with various [built-in exceptions](https://docs.python.org/3/library/exceptions.html). We can also create [custom exceptions](https://martinxpn.medium.com/custom-exceptions-in-python-creating-custom-exceptions-59-100-days-of-python-4f26de8e851d) if Python does not have a built-in exception for our use-case. If you are unfamiliar with object-oriented Python, the syntax in the above document might look unfamiliar. You can revisit this section once object-oriented Python is covered in the coming few weeks.\n",
    "\n",
    "There are some great examples for each of these considerations and more [here](https://realpython.com/python-lbyl-vs-eafp/#the-lbyl-and-eafp-coding-styles-in-python).\n",
    "\n",
    "With that, let us return to our code and give it some finishing touches. As we briefly saw in the class, we can use `else` and `finally` block with `try`-`except`. Statements in the `else` block get executed only if our code does not raise any exceptions. On the other hand, statements in `finally` get executed irrespective of an exception in the `try` block. `finally` is useful when we want to log some information or clean up resources(for example, closing a file)."
   ]
  },
  {
   "cell_type": "code",
   "execution_count": 9,
   "metadata": {},
   "outputs": [
    {
     "name": "stdout",
     "output_type": "stream",
     "text": [
      "FASTA file is valid\n",
      "FASTA file validation completed\n"
     ]
    }
   ],
   "source": [
    "#set containing valid bases\n",
    "bases = {'A', 'a', 'T', 't', 'C', 'c', 'G', 'g', 'N', 'n'}\n",
    "header_flag = False\n",
    "\n",
    "try:\n",
    "    with open(\"Vibrio_cholerae_N16961.fna\") as fin:\n",
    "        lines = fin.readlines()\n",
    "        for line in lines:\n",
    "            line = line.strip()\n",
    "            if line.startswith(\">\"): #header line\n",
    "                header_flag = True\n",
    "            else:                    #sequences\n",
    "                if not header_flag:  #sequence line before header\n",
    "                    raise ValueError(\"no header line\")\n",
    "                if not set(line).issubset(bases): #invalid bases\n",
    "                    raise ValueError(\"has invalid bases\")\n",
    "            \n",
    "except FileNotFoundError:\n",
    "    print(\"FASTA file does not exist\")\n",
    "except ValueError as value_error:\n",
    "    print(f\"Invalid FASTA: {value_error}\")\n",
    "else:\n",
    "    print(\"FASTA file is valid\")\n",
    "finally:\n",
    "    print(\"FASTA file validation completed\")"
   ]
  },
  {
   "cell_type": "markdown",
   "metadata": {},
   "source": [
    "Before we move on to the next topic, let us quickly touch upon another exception called `AssertionError`. It's worth a special mention as it should not be handled using `try`-`except`. This is because `AssertionError` is raised by Python when evaluating a condition with `assert` keyword. `assert` performs a sanity check and is a commonly used debugging/testing tool. If the condition it is used with is true, it does nothing and the program execution proceeds. But if it is false, it raises an `AssertionError` exception which explains why it makes sense to not use `except` to catch the `AssertionError`. Let's look at a simple example to understand `assert`. The below code checks if a number is odd or even and continues if the number is even and fails if it is odd:"
   ]
  },
  {
   "cell_type": "code",
   "execution_count": 10,
   "metadata": {},
   "outputs": [
    {
     "name": "stdout",
     "output_type": "stream",
     "text": [
      "Success!\n"
     ]
    }
   ],
   "source": [
    "num = 14\n",
    "assert num % 2 == 0, f\"Number is odd. ({num = })\"\n",
    "print(\"Success!\")"
   ]
  },
  {
   "cell_type": "code",
   "execution_count": 11,
   "metadata": {},
   "outputs": [
    {
     "ename": "AssertionError",
     "evalue": "Number is odd. (num = 15)",
     "output_type": "error",
     "traceback": [
      "\u001b[0;31m---------------------------------------------------------------------------\u001b[0m",
      "\u001b[0;31mAssertionError\u001b[0m                            Traceback (most recent call last)",
      "Cell \u001b[0;32mIn[11], line 2\u001b[0m\n\u001b[1;32m      1\u001b[0m num \u001b[38;5;241m=\u001b[39m \u001b[38;5;241m15\u001b[39m\n\u001b[0;32m----> 2\u001b[0m \u001b[38;5;28;01massert\u001b[39;00m num \u001b[38;5;241m%\u001b[39m \u001b[38;5;241m2\u001b[39m \u001b[38;5;241m==\u001b[39m \u001b[38;5;241m0\u001b[39m, \u001b[38;5;124mf\u001b[39m\u001b[38;5;124m\"\u001b[39m\u001b[38;5;124mNumber is odd. (\u001b[39m\u001b[38;5;132;01m{\u001b[39;00mnum\u001b[38;5;250m \u001b[39m\u001b[38;5;132;01m= }\u001b[39;00m\u001b[38;5;124m)\u001b[39m\u001b[38;5;124m\"\u001b[39m\n\u001b[1;32m      3\u001b[0m \u001b[38;5;28mprint\u001b[39m(\u001b[38;5;124m\"\u001b[39m\u001b[38;5;124mSuccess!\u001b[39m\u001b[38;5;124m\"\u001b[39m)\n",
      "\u001b[0;31mAssertionError\u001b[0m: Number is odd. (num = 15)"
     ]
    }
   ],
   "source": [
    "num = 15\n",
    "assert num % 2 == 0, f\"Number is odd. ({num = })\"\n",
    "print(\"Success!\")"
   ]
  },
  {
   "cell_type": "markdown",
   "metadata": {},
   "source": [
    "Notice that we also added a custom error message using `f-strings`. You can read more about `assert` [here](https://dbader.org/blog/python-assert-tutorial)."
   ]
  },
  {
   "cell_type": "markdown",
   "metadata": {},
   "source": [
    "## `logging` package"
   ]
  },
  {
   "cell_type": "markdown",
   "metadata": {},
   "source": [
    "Continuing with our assumption of developing a tool from the first section, a good tool should have a good logging mechanism to log execution details, errors and useful information to help debug in case of errors. Comparing the error messages of Bash with Python should give you a fair idea of the importance of good error messages.\n",
    "\n",
    "`logging` module in Python's standard library has the tools required to implement a comprehensive logging mechanism. The main component of the logging module is called the \"logger\" which lets us control what to log, at what level of detail, and where to store or send these logs. The default logger is called `root`. The module supports logging information at five different log levels:\n",
    "* `DEBUG` - Detailed information to diagnose a problem, typically only of interest to a developer.\n",
    "* `INFO` - Confirmation that things are working as expected.\n",
    "* `WARNING` - An indication that something unexpected happened, but the program still executes.\n",
    "* `ERROR` - Some functions of the program failed due to an error/bug.\n",
    "* `CRITICAL` - A serious error, indicating that the program itself may be unable to continue running.\n",
    "\n",
    "Note that by default, only WARNING, ERROR and CRITICAL levels are logged(which can be modified as we'll see in a later example). An example will make this clear:\n"
   ]
  },
  {
   "cell_type": "code",
   "execution_count": 12,
   "metadata": {},
   "outputs": [
    {
     "name": "stderr",
     "output_type": "stream",
     "text": [
      "WARNING:root:This is a warning\n",
      "ERROR:root:This is an error\n",
      "CRITICAL:root:This is critical\n"
     ]
    }
   ],
   "source": [
    "import logging\n",
    "\n",
    "logging.debug(\"This is for debugging\")\n",
    "logging.info(\"This is informational\")\n",
    "logging.warning(\"This is a warning\")\n",
    "logging.error(\"This is an error\")\n",
    "logging.critical(\"This is critical\")"
   ]
  },
  {
   "cell_type": "markdown",
   "metadata": {},
   "source": [
    "The output shows the log level followed by the logger name and the log message by default. We can add more details to make our logs useful. The functionality to modify the default behavior of the root logger is provided by `basicConfig()` function. Let us use this to replace the logger name with a more useful attribute like the date and time of logging. All supported attributes are listed [here](https://docs.python.org/3/library/logging.html#logrecord-attributes).\n",
    "\n",
    "NOTE: Calling `basicConfig()` only works if the root logger hasn’t been configured before. All logging functions automatically call this function without arguments. Therefore when we ran the above logging functions, `basicConfig()` was already executed with default arguments. To reconfigure it and run the cell below, you'll need to restart the notebook's kernel."
   ]
  },
  {
   "cell_type": "code",
   "execution_count": 1,
   "metadata": {},
   "outputs": [
    {
     "name": "stderr",
     "output_type": "stream",
     "text": [
      "2024-10-25 17:16 - ERROR - This is an error\n"
     ]
    }
   ],
   "source": [
    "import logging\n",
    "logging.basicConfig(\n",
    "     format=\"%(asctime)s - %(levelname)s - %(message)s\",\n",
    "     datefmt=\"%Y-%m-%d %H:%M\" )\n",
    "\n",
    "logging.error(\"This is an error\")"
   ]
  },
  {
   "cell_type": "markdown",
   "metadata": {},
   "source": [
    "You can write logs to a log file instead of printing it to the terminal (similar to output redirection using `>` in Bash) by providing the file name in `basicConfig()`.\n",
    "\n",
    "RESTART KERNEL"
   ]
  },
  {
   "cell_type": "code",
   "execution_count": 1,
   "metadata": {},
   "outputs": [],
   "source": [
    "import logging\n",
    "logging.basicConfig(\n",
    "     format=\"%(asctime)s - %(levelname)s - %(message)s\",\n",
    "     datefmt=\"%Y-%m-%d %H:%M\",\n",
    "     filename=\"error.log\",\n",
    "     filemode=\"a\") #open file in append mode\n",
    "\n",
    "logging.error(\"This is an error written to file\")"
   ]
  },
  {
   "cell_type": "code",
   "execution_count": 2,
   "metadata": {},
   "outputs": [
    {
     "name": "stdout",
     "output_type": "stream",
     "text": [
      "2024-10-25 17:28 - ERROR - This is an error written to file\n"
     ]
    }
   ],
   "source": [
    "!cat error.log"
   ]
  },
  {
   "cell_type": "markdown",
   "metadata": {},
   "source": [
    "Now that we have some understanding of the `logging` module, let us apply these to the FASTA file validation example we were working on. First, let us test with a non-existent FASTA file. Setting `exc_info = True` captures the stacktrace and outputs that as a part of the log message.\n",
    "\n",
    "RESTART KERNEL"
   ]
  },
  {
   "cell_type": "code",
   "execution_count": 1,
   "metadata": {},
   "outputs": [
    {
     "name": "stderr",
     "output_type": "stream",
     "text": [
      "2024-10-25 17:55 - INFO - Reading FASTA file validation\n",
      "2024-10-25 17:55 - ERROR - FASTA file does not exist\n",
      "Traceback (most recent call last):\n",
      "  File \"/tmp/ipykernel_368358/56002547.py\", line 15, in <module>\n",
      "    with open(\"dummy.fna\") as fin:\n",
      "         ^^^^^^^^^^^^^^^^^\n",
      "  File \"/home/anagha/mambaforge/envs/juppy312/lib/python3.12/site-packages/IPython/core/interactiveshell.py\", line 286, in _modified_open\n",
      "    return io_open(file, *args, **kwargs)\n",
      "           ^^^^^^^^^^^^^^^^^^^^^^^^^^^^^^\n",
      "FileNotFoundError: [Errno 2] No such file or directory: 'dummy.fna'\n",
      "2024-10-25 17:55 - INFO - FASTA file validation completed\n"
     ]
    }
   ],
   "source": [
    "import logging\n",
    "\n",
    "#set containing valid bases\n",
    "bases = {'A', 'a', 'T', 't', 'C', 'c', 'G', 'g', 'N', 'n'}\n",
    "header_flag = False\n",
    "\n",
    "logging.basicConfig(\n",
    "     format=\"%(asctime)s - %(levelname)s - %(message)s\",\n",
    "     datefmt=\"%Y-%m-%d %H:%M\",\n",
    "     level=logging.INFO) #enables INFO level logging\n",
    "\n",
    "logging.info(\"Reading FASTA file validation\")\n",
    "\n",
    "try:\n",
    "    with open(\"dummy.fna\") as fin:\n",
    "        lines = fin.readlines()\n",
    "        for line in lines:\n",
    "            line = line.strip()\n",
    "            if line.startswith(\">\"): #header line\n",
    "                header_flag = True\n",
    "            else:                    #sequences\n",
    "                if not header_flag:  #sequence line before header\n",
    "                    raise ValueError(\"no header line\")\n",
    "                if not set(line).issubset(bases): #invalid bases\n",
    "                    raise ValueError(\"has invalid bases\")\n",
    "            \n",
    "except FileNotFoundError:\n",
    "    logging.error(\"FASTA file does not exist\", exc_info = True)\n",
    "except ValueError as value_error:\n",
    "    logging.error(f\"Invalid FASTA: {value_error}\")\n",
    "else:\n",
    "    logging.info(\"FASTA file is valid\")\n",
    "finally:\n",
    "    logging.info(\"FASTA file validation completed\")"
   ]
  },
  {
   "cell_type": "code",
   "execution_count": 2,
   "metadata": {},
   "outputs": [
    {
     "name": "stderr",
     "output_type": "stream",
     "text": [
      "2024-10-25 17:56 - INFO - Reading FASTA file validation\n",
      "2024-10-25 17:56 - ERROR - Invalid FASTA: no header line\n",
      "2024-10-25 17:56 - INFO - FASTA file validation completed\n"
     ]
    }
   ],
   "source": [
    "import logging\n",
    "\n",
    "#set containing valid bases\n",
    "bases = {'A', 'a', 'T', 't', 'C', 'c', 'G', 'g', 'N', 'n'}\n",
    "header_flag = False\n",
    "\n",
    "logging.basicConfig(\n",
    "     format=\"%(asctime)s - %(levelname)s - %(message)s\",\n",
    "     datefmt=\"%Y-%m-%d %H:%M\",\n",
    "     level=logging.INFO) #enables INFO level logging\n",
    "\n",
    "logging.info(\"Reading FASTA file validation\")\n",
    "\n",
    "try:\n",
    "    with open(\"invalid_header.fna\") as fin:\n",
    "        lines = fin.readlines()\n",
    "        for line in lines:\n",
    "            line = line.strip()\n",
    "            if line.startswith(\">\"): #header line\n",
    "                header_flag = True\n",
    "            else:                    #sequences\n",
    "                if not header_flag:  #sequence line before header\n",
    "                    raise ValueError(\"no header line\")\n",
    "                if not set(line).issubset(bases): #invalid bases\n",
    "                    raise ValueError(\"has invalid bases\")\n",
    "            \n",
    "except FileNotFoundError:\n",
    "    logging.error(\"FASTA file does not exist\", exc_info = True)\n",
    "except ValueError as value_error:\n",
    "    logging.error(f\"Invalid FASTA: {value_error}\")\n",
    "else:\n",
    "    logging.info(\"FASTA file is valid\")\n",
    "finally:\n",
    "    logging.info(\"FASTA file validation completed\")"
   ]
  },
  {
   "cell_type": "code",
   "execution_count": 3,
   "metadata": {},
   "outputs": [
    {
     "name": "stderr",
     "output_type": "stream",
     "text": [
      "2024-10-25 17:57 - INFO - Reading FASTA file validation\n",
      "2024-10-25 17:57 - INFO - FASTA file is valid\n",
      "2024-10-25 17:57 - INFO - FASTA file validation completed\n"
     ]
    }
   ],
   "source": [
    "import logging\n",
    "\n",
    "#set containing valid bases\n",
    "bases = {'A', 'a', 'T', 't', 'C', 'c', 'G', 'g', 'N', 'n'}\n",
    "header_flag = False\n",
    "\n",
    "logging.basicConfig(\n",
    "     format=\"%(asctime)s - %(levelname)s - %(message)s\",\n",
    "     datefmt=\"%Y-%m-%d %H:%M\",\n",
    "     level=logging.INFO) #enables INFO level logging\n",
    "\n",
    "logging.info(\"Reading FASTA file validation\")\n",
    "\n",
    "try:\n",
    "    with open(\"Vibrio_cholerae_N16961.fna\") as fin:\n",
    "        lines = fin.readlines()\n",
    "        for line in lines:\n",
    "            line = line.strip()\n",
    "            if line.startswith(\">\"): #header line\n",
    "                header_flag = True\n",
    "            else:                    #sequences\n",
    "                if not header_flag:  #sequence line before header\n",
    "                    raise ValueError(\"no header line\")\n",
    "                if not set(line).issubset(bases): #invalid bases\n",
    "                    raise ValueError(\"has invalid bases\")\n",
    "            \n",
    "except FileNotFoundError:\n",
    "    logging.error(\"FASTA file does not exist\", exc_info = True)\n",
    "except ValueError as value_error:\n",
    "    logging.error(f\"Invalid FASTA: {value_error}\")\n",
    "else:\n",
    "    logging.info(\"FASTA file is valid\")\n",
    "finally:\n",
    "    logging.info(\"FASTA file validation completed\")"
   ]
  },
  {
   "cell_type": "markdown",
   "metadata": {},
   "source": [
    "Even though it is possible to log info/error messages with `print()` statements, hopefully, you are now convinced that using the `logging` module provides enhanced capabilities to perform logging making your tool user-friendly and informative. For more details about the `logging` module, refer to [Python documentation](https://docs.python.org/3/library/logging.html#)."
   ]
  }
 ],
 "metadata": {
  "kernelspec": {
   "display_name": "Python 3 (ipykernel)",
   "language": "python",
   "name": "python3"
  },
  "language_info": {
   "codemirror_mode": {
    "name": "ipython",
    "version": 3
   },
   "file_extension": ".py",
   "mimetype": "text/x-python",
   "name": "python",
   "nbconvert_exporter": "python",
   "pygments_lexer": "ipython3",
   "version": "3.12.0"
  }
 },
 "nbformat": 4,
 "nbformat_minor": 4
}
