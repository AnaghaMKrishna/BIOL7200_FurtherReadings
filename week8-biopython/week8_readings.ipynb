{
 "cells": [
  {
   "cell_type": "markdown",
   "metadata": {},
   "source": [
    "# Week 8 Further Readings"
   ]
  },
  {
   "cell_type": "markdown",
   "metadata": {},
   "source": [
    "We'll explore some useful packages and modules in the Biopython library. Even though we will not be covering Biopython in the course, it is helpful to have a broad idea of what it offers so that you can use it in your research or whenever required. The idea behind creating this notebook is to introduce you to Biopython so that it serves as a starter for you to explore the vast capabilities of Biopython.\n",
    "\n",
    "Before we dive into Biopython, I'd like to take a moment to mention Python 3.13 was just released last week! Some notable updates include improvements to the Python interactive interpreter and error messages. You can find all the improvements and new features of Python 3.13 in the [What's new in Python 3.13](https://docs.python.org/3/whatsnew/3.13.html) page.\n",
    "\n",
    "\n",
    "## Biopython\n",
    "\n",
    "Biopython is a collection of Python modules for computational molecular biology. [Biopython website](http://www.biopython.org) provides an online resource for modules, scripts, and web links for developers of Python-based software for bioinformatics use and research. It includes parsers for various bioinformatics file formats like BLAST, FASTA, Genbank, etc., access to online databases like NCBI, PDB etc., a standard sequence class, sequence alignment, and many more.\n",
    "\n",
    "To get started with Biopython, we first need to install it as it is not a part of the standard library which simply means that it does not come pre-installed with Python like other packages such as `sys`, `os`, `argparse` etc. You can either install it using `pip` or directly into a mamba environment. Make sure to also install `jupyter lab` in the same environment to work through the examples in the notebook."
   ]
  },
  {
   "cell_type": "code",
   "execution_count": null,
   "metadata": {},
   "outputs": [],
   "source": [
    "pip install biopython"
   ]
  },
  {
   "cell_type": "markdown",
   "metadata": {},
   "source": [
    "Or"
   ]
  },
  {
   "cell_type": "code",
   "execution_count": null,
   "metadata": {},
   "outputs": [],
   "source": [
    "mamba env -n biopython -c conda-forge biopython"
   ]
  },
  {
   "cell_type": "markdown",
   "metadata": {},
   "source": [
    "For installation instructions, refer to the [README file.](https://github.com/biopython/biopython/blob/master/README.rst)\n",
    "\n",
    "Once installed, we can check the Biopython version installed using the `__version__` dunder variable."
   ]
  },
  {
   "cell_type": "code",
   "execution_count": 1,
   "metadata": {},
   "outputs": [
    {
     "name": "stdout",
     "output_type": "stream",
     "text": [
      "1.84\n"
     ]
    }
   ],
   "source": [
    "import Bio\n",
    "print(Bio.__version__)"
   ]
  },
  {
   "cell_type": "markdown",
   "metadata": {},
   "source": [
    "### Bio.Seq Module"
   ]
  },
  {
   "cell_type": "markdown",
   "metadata": {},
   "source": [
    "One of the most common data that Bioinformaticians deal with is the biological sequence data which can essentially be thought of as strings and the sequence processing as some sort of string manipulation. Biopython's `Seq` module provides `Seq` class to deal with biological sequences."
   ]
  },
  {
   "cell_type": "code",
   "execution_count": 2,
   "metadata": {},
   "outputs": [],
   "source": [
    "seq = \"ATGACTAGACTACATAGCATGACTACGAATCATAAATAG\""
   ]
  },
  {
   "cell_type": "code",
   "execution_count": 3,
   "metadata": {},
   "outputs": [
    {
     "name": "stdout",
     "output_type": "stream",
     "text": [
      "<class 'Bio.Seq.Seq'>\n"
     ]
    }
   ],
   "source": [
    "from Bio.Seq import Seq\n",
    "\n",
    "bpy_seq = Seq(seq)\n",
    "\n",
    "#check the type of the bpy_seq object\n",
    "print(type(bpy_seq))"
   ]
  },
  {
   "cell_type": "markdown",
   "metadata": {},
   "source": [
    "Similar to Python `string`, Biopython `Seq` object is also immutable. We see an error if we try to change the last three bases."
   ]
  },
  {
   "cell_type": "code",
   "execution_count": 4,
   "metadata": {},
   "outputs": [
    {
     "ename": "TypeError",
     "evalue": "'Seq' object does not support item assignment",
     "output_type": "error",
     "traceback": [
      "\u001b[0;31m---------------------------------------------------------------------------\u001b[0m",
      "\u001b[0;31mTypeError\u001b[0m                                 Traceback (most recent call last)",
      "Cell \u001b[0;32mIn[4], line 1\u001b[0m\n\u001b[0;32m----> 1\u001b[0m \u001b[43mbpy_seq\u001b[49m\u001b[43m[\u001b[49m\u001b[38;5;241;43m-\u001b[39;49m\u001b[38;5;241;43m3\u001b[39;49m\u001b[43m:\u001b[49m\u001b[43m]\u001b[49m \u001b[38;5;241m=\u001b[39m \u001b[38;5;124m\"\u001b[39m\u001b[38;5;124mTAA\u001b[39m\u001b[38;5;124m\"\u001b[39m\n",
      "\u001b[0;31mTypeError\u001b[0m: 'Seq' object does not support item assignment"
     ]
    }
   ],
   "source": [
    "bpy_seq[-3:] = \"TAA\""
   ]
  },
  {
   "cell_type": "markdown",
   "metadata": {},
   "source": [
    "However, Biopython also provides mutable version of `Seq` object via the `MutableSeq` class. "
   ]
  },
  {
   "cell_type": "code",
   "execution_count": 5,
   "metadata": {},
   "outputs": [
    {
     "name": "stdout",
     "output_type": "stream",
     "text": [
      "ATGACTAGACTACATAGCATGACTACGAATCATAAATAG\n",
      "<class 'Bio.Seq.MutableSeq'>\n"
     ]
    }
   ],
   "source": [
    "from Bio.Seq import MutableSeq\n",
    "mut_seq = MutableSeq(seq)\n",
    "print(mut_seq)\n",
    "print(type(mut_seq))"
   ]
  },
  {
   "cell_type": "markdown",
   "metadata": {},
   "source": [
    "Now, we can perform modifications to the `mut_seq` variable in place without getting an error."
   ]
  },
  {
   "cell_type": "code",
   "execution_count": 6,
   "metadata": {},
   "outputs": [
    {
     "name": "stdout",
     "output_type": "stream",
     "text": [
      "ATGACTAGACTACATAGCATGACTACGAATCATAAATAA\n"
     ]
    }
   ],
   "source": [
    "mut_seq[-3:] = \"TAA\"\n",
    "print(mut_seq)"
   ]
  },
  {
   "cell_type": "markdown",
   "metadata": {},
   "source": [
    "One important thing to bear in mind is that when we make our sequence mutable, we cannot use it in places where an immutable object is required. A good example of this is dictionary keys which require that it is an immutable object. To work around this is simple, you can convert the `MutableSeq` into `Seq` object when you want to make it immutable again."
   ]
  },
  {
   "cell_type": "code",
   "execution_count": 7,
   "metadata": {},
   "outputs": [
    {
     "name": "stdout",
     "output_type": "stream",
     "text": [
      "ATGACTAGACTACATAGCATGACTACGAATCATAAATAA\n",
      "<class 'Bio.Seq.Seq'>\n"
     ]
    }
   ],
   "source": [
    "immut_seq = Seq(mut_seq)\n",
    "print(immut_seq)\n",
    "print(type(immut_seq))"
   ]
  },
  {
   "cell_type": "markdown",
   "metadata": {},
   "source": [
    "<br>\n",
    "\n",
    "`Seq` object supports many of the methods that a Python `string` object does, but note that some methods behave differently even though they are named the same(eg, `translate()`) and there are also additional biologically relevant methods like `reverse_complement()`. Let us now explore some `Seq` object methods. \n",
    "\n",
    "Similar to `str` method `count()`, `Seq` object's method `count()` also returns a non-overlapping count. However, if you are looking to count the number of occurrences of an overlapping pattern, you can use `count_overlap()`."
   ]
  },
  {
   "cell_type": "code",
   "execution_count": 8,
   "metadata": {},
   "outputs": [
    {
     "data": {
      "text/plain": [
       "3"
      ]
     },
     "execution_count": 8,
     "metadata": {},
     "output_type": "execute_result"
    }
   ],
   "source": [
    "seq = Seq(\"ATGACTAGACTACATAGAGACATGACTAGAGATCATAAATAG\")\n",
    "\n",
    "seq.count(\"AGA\")"
   ]
  },
  {
   "cell_type": "code",
   "execution_count": 9,
   "metadata": {},
   "outputs": [
    {
     "data": {
      "text/plain": [
       "5"
      ]
     },
     "execution_count": 9,
     "metadata": {},
     "output_type": "execute_result"
    }
   ],
   "source": [
    "seq.count_overlap(\"AGA\")"
   ]
  },
  {
   "cell_type": "markdown",
   "metadata": {},
   "source": [
    "In the above sequence, without counting overlaps, `count()` only finds ATGACT**AGA**CTACAT**AGA**GACATGACT**AGA**GATCATAAATAG and returns 3. With `count_overlap()`, it finds the overlapping `AGA`s as well ATGACT**AGA**CTACAT**AGAGA**CATGACT**AGAGA**TCATAAATAG and returns 5.\n",
    "\n",
    "Additionally, there are methods to complement, reverse-complement, transcribe, reverse-transcribe, and translate sequences."
   ]
  },
  {
   "cell_type": "code",
   "execution_count": 10,
   "metadata": {},
   "outputs": [
    {
     "name": "stdout",
     "output_type": "stream",
     "text": [
      "Sequence:           ATGACTAGACTACATAGAGACATGACTAGAGATCATAAATAG\n",
      "Complement:         TACTGATCTGATGTATCTCTGTACTGATCTCTAGTATTTATC\n",
      "Reverse complement: CTATTTATGATCTCTAGTCATGTCTCTATGTAGTCTAGTCAT\n",
      "RNA sequence:       AUGACUAGACUACAUAGAGACAUGACUAGAGAUCAUAAAUAG\n",
      "DNA sequence:       ATGACTAGACTACATAGAGACATGACTAGAGATCATAAATAG\n",
      "Protein sequence:   MTRLHRDMTRDHK*\n"
     ]
    }
   ],
   "source": [
    "print(f\"Sequence:           {seq}\")\n",
    "#complement DNA sequence\n",
    "comp_seq = seq.complement()\n",
    "print(f\"Complement:         {comp_seq}\")\n",
    "\n",
    "#reverse complement DNA sequence\n",
    "rev_comp_seq = seq.reverse_complement()\n",
    "print(f\"Reverse complement: {rev_comp_seq}\")\n",
    "\n",
    "#transcribe DNA to RNA\n",
    "rna_seq = seq.transcribe()\n",
    "print(f\"RNA sequence:       {rna_seq}\")\n",
    "\n",
    "#reverse-transcribe RNA to DNA\n",
    "dna_seq = rna_seq.back_transcribe()\n",
    "print(f\"DNA sequence:       {dna_seq}\")\n",
    "\n",
    "#translate mRNA to protein\n",
    "protein_seq = rna_seq.translate()\n",
    "print(f\"Protein sequence:   {protein_seq}\")"
   ]
  },
  {
   "cell_type": "markdown",
   "metadata": {},
   "source": [
    "Apart from these, methods like `startswith()`, `split()`, `index()`, `find()`, `join()` and so on work similarly to their `str` counterparts. You can find all the methods supported in the [documentation](https://biopython.org/docs/1.75/api/Bio.Seq.html).\n",
    "\n",
    "You can find more `Seq` object manipulation examples [here](https://biopython.org/docs/latest/Tutorial/chapter_seq_objects.html)."
   ]
  },
  {
   "cell_type": "markdown",
   "metadata": {},
   "source": [
    "### SeqIO Package"
   ]
  },
  {
   "cell_type": "markdown",
   "metadata": {},
   "source": [
    "`SeqIO` package provides utilities to work with different biological file formats like `fasta`, `genbank`, multiple alignment files, etc. The main function we need to know about in this package is `SeqIO.parse()`. As the name suggests, it reads in or parses the sequence data and stores it as `SeqRecord` objects.\n",
    "\n",
    "Let's look at how to use the `SeqIO.parse()` function. To illustrate this, we will use the Vibrio *cholerae* assembly file that we have been working with. The function takes two inputs, the filename and the file format. It returns an iterator that gives `SeqRecord` objects. If you remember other iterators we learned in class like `enumerate()`, `range()`, `zip()` and so on, the output produced by `SeqIO.parse()` function is similar and we can read it using a for loop."
   ]
  },
  {
   "cell_type": "code",
   "execution_count": 11,
   "metadata": {},
   "outputs": [
    {
     "name": "stdout",
     "output_type": "stream",
     "text": [
      "ID: NZ_CP028827.1\n",
      "Name: NZ_CP028827.1\n",
      "Description: NZ_CP028827.1 Vibrio cholerae strain N16961 chromosome 1, complete sequence\n",
      "Number of features: 0\n",
      "Seq('GTGTCATCTTCGCTATGGTTGCAATGTTTGCAACGGCTTCAGGAAGAGCTACCT...ATC')\n",
      "\n",
      "\n",
      "ID: NZ_CP028828.1\n",
      "Name: NZ_CP028828.1\n",
      "Description: NZ_CP028828.1 Vibrio cholerae strain N16961 chromosome 2, complete sequence\n",
      "Number of features: 0\n",
      "Seq('TCAGTTTAGCTTACGCTGCACAAAATCAAGAATATCTTGCATCAGCTCATCATC...GAC')\n",
      "\n",
      "\n"
     ]
    }
   ],
   "source": [
    "from Bio import SeqIO\n",
    "\n",
    "for record in SeqIO.parse(\"Vibrio_cholerae_N16961.fna\", \"fasta\"):\n",
    "    print(record)\n",
    "    print(\"\\n\")"
   ]
  },
  {
   "cell_type": "markdown",
   "metadata": {},
   "source": [
    "In the above output, each sequence is stored as a `SeqRecord` object, which we can confirm using the `type()` function."
   ]
  },
  {
   "cell_type": "code",
   "execution_count": 12,
   "metadata": {},
   "outputs": [
    {
     "name": "stdout",
     "output_type": "stream",
     "text": [
      "<class 'Bio.SeqRecord.SeqRecord'>\n"
     ]
    }
   ],
   "source": [
    "print(type(record))"
   ]
  },
  {
   "cell_type": "markdown",
   "metadata": {},
   "source": [
    "We can also peek into the contents of the `record` object using `repr()`."
   ]
  },
  {
   "cell_type": "code",
   "execution_count": 13,
   "metadata": {},
   "outputs": [
    {
     "name": "stdout",
     "output_type": "stream",
     "text": [
      "SeqRecord(seq=Seq('TCAGTTTAGCTTACGCTGCACAAAATCAAGAATATCTTGCATCAGCTCATCATC...GAC'), id='NZ_CP028828.1', name='NZ_CP028828.1', description='NZ_CP028828.1 Vibrio cholerae strain N16961 chromosome 2, complete sequence', dbxrefs=[])\n"
     ]
    }
   ],
   "source": [
    "print(repr(record))"
   ]
  },
  {
   "cell_type": "markdown",
   "metadata": {},
   "source": [
    "As we can see, the `SeqIO.parse()` function automatically parses the fasta file, creates an object for each record and stores the sequence ID, and other metadata in the header line as description, and the sequence. This is more convenient than reading the file as a generic text file and having to parse through the file line by line to handle the header and sequence lines separately. Interestingly, we can see the 'Number of features' is 0 for both sequences. Let us see why that is in a minute.\n",
    "\n",
    "You can easily access the record's attributes like `ID`, `Description` etc., using the `.`(dot) notation. "
   ]
  },
  {
   "cell_type": "code",
   "execution_count": 14,
   "metadata": {},
   "outputs": [
    {
     "name": "stdout",
     "output_type": "stream",
     "text": [
      "NZ_CP028828.1\n",
      "NZ_CP028828.1 Vibrio cholerae strain N16961 chromosome 2, complete sequence\n",
      "1072331\n"
     ]
    }
   ],
   "source": [
    "print(record.id)\n",
    "print(record.description)\n",
    "print(len(record.seq)) #number of bases in the sequence"
   ]
  },
  {
   "cell_type": "markdown",
   "metadata": {},
   "source": [
    "A sensible data type to store the sequences and their attributes is a dictionary with the sequence ID as the key. `SeqIO` also has `.to_dict()` method to directly convert the `SeqRecord` into a `dict`."
   ]
  },
  {
   "cell_type": "code",
   "execution_count": 15,
   "metadata": {},
   "outputs": [
    {
     "name": "stdout",
     "output_type": "stream",
     "text": [
      "<class 'dict'>\n",
      "('NZ_CP028827.1', SeqRecord(seq=Seq('GTGTCATCTTCGCTATGGTTGCAATGTTTGCAACGGCTTCAGGAAGAGCTACCT...ATC'), id='NZ_CP028827.1', name='NZ_CP028827.1', description='NZ_CP028827.1 Vibrio cholerae strain N16961 chromosome 1, complete sequence', dbxrefs=[]))\n",
      "\n",
      "\n",
      "('NZ_CP028828.1', SeqRecord(seq=Seq('TCAGTTTAGCTTACGCTGCACAAAATCAAGAATATCTTGCATCAGCTCATCATC...GAC'), id='NZ_CP028828.1', name='NZ_CP028828.1', description='NZ_CP028828.1 Vibrio cholerae strain N16961 chromosome 2, complete sequence', dbxrefs=[]))\n",
      "\n",
      "\n"
     ]
    }
   ],
   "source": [
    "seq_dict = SeqIO.to_dict(SeqIO.parse(\"Vibrio_cholerae_N16961.fna\", \"fasta\"))\n",
    "\n",
    "#check the type\n",
    "print(type(seq_dict))\n",
    "for seq in seq_dict.items():\n",
    "    print(seq)\n",
    "    print(\"\\n\")"
   ]
  },
  {
   "cell_type": "markdown",
   "metadata": {},
   "source": [
    "The content of the `dict` looks the same as the output of `repr()` we saw above. To access the element, we can use the sequence ID as the key."
   ]
  },
  {
   "cell_type": "code",
   "execution_count": 16,
   "metadata": {},
   "outputs": [
    {
     "name": "stdout",
     "output_type": "stream",
     "text": [
      "NZ_CP028827.1\n",
      "GTGTCATCTTCGCTATGGTTGCAATGTTTGCAACGGCTTCAGGAAGAGCTACCTGCCGCAGAATTCAGTATGTGGGTGCGTCCGCTTCAAGCGGAGCTCAATGACAATACTCTCACTTTATTCGCCCCGAACCGCTTTGTGTTGGATTGGGTACGCGATAAGTACCTCAATAACATCAATCGTCTGCTGATGGAATTCAGTGGCAATGATGTGCCTAATTTGCGCTTTGAAGTGGGGAGCCGCCCTGTGGTGGCGCCAAAACCCGCGCCTGTACGTACGGCTGCGGATGTCGCGGCGGAATCGTCGGCGCCTGCGCAATTGGCGCAGCGTAAACCTATCCATAAAACCTGGGATGATGACAGTGCTGCGGCTGATATTACTCACCGCTCAAATGTGAACCCGAAACACAAGTTCAACAACTTCGTGGAAGGTAAATCTAACCAGTTAGGTCTGGCCGCGGCTCGCCAAGTCTCTGATAACCCAGGTGCGGCGTATAACCCCCTCTTTTTGTATGGCGGCACCGGTTTGGGTAAAACGCACTTGCTGCATGCGGTGGGTAACGCGATTGTTGATAACAACCCGAACGCTAAAGTGGTGTACATGCACTCTGAGCGTTTCGTGCAAGACATGGTAAAAGCCCTGCAGAACAACGCGATTGAAGAATTCAAACGCTACTATCGCAGTGTAGATGCCTTGTTGATCGACGATATTCAATTCTTTGCCAACAAAGAGCGTTCGCAGGAAGAGTTCTTCCACACCTTTAACGCACTGCTGGAAGGCAACCAACAAATTATTTTGACTTCTGACCGCTATCCAAAAGAGATCAGTGGTGTAGAAGATCGTCTCAAATCGCGTTTTGGCTGGGGCTTAACGGTGGCGATCGAGCCGCCGGAGTTGGAAACCCGCGTCGCGATCTTGATGAAAAAAGCGGAAGATCACCAGATTCATCTGCCGGATGAAGTGGCTTTCTTTATTGCGAAACGCCTGCGCTCTAACGTGC\n"
     ]
    }
   ],
   "source": [
    "print(seq_dict['NZ_CP028827.1'].id)\n",
    "print(seq_dict['NZ_CP028827.1'].seq[:1000]) #print first 1000 bases"
   ]
  },
  {
   "cell_type": "markdown",
   "metadata": {},
   "source": [
    "NOTE: Using the `to_dict()` function will load all the records into memory at once, and therefore is not recommended when working with very large files. Instead, `Bio.SeqIO` package provides dictionary-like access to any record through the `index()` function. The only drawback with this function is that it supports a limited number of input file formats like fasta, fastq but not alignment file types like phylip."
   ]
  },
  {
   "cell_type": "markdown",
   "metadata": {},
   "source": [
    "Now let us understand why the \"number of features\" is zero when we read in the fasta file and what we can do about it to store the feature information. When we read data from a fasta file, the `SeqIO.parse()` function has no idea what features are present in the sequence and treats it as a plain sequence. We need to annotate the sequence with the coordinates of the features using a feature-encoding file like BED file or GFF file and store it in the `SeqRecord` object.\n",
    "\n",
    "All feature-related information can be stored using the `SeqFeature` object. The key idea of the `SeqFeature` object is to describe a region in a sequence. As a result, the main attributes supported include `type` (type of feature like gene, CDS, etc), `location`(coordinates of the feature) and `qualifier` (a dictionary to store any metadata about the feature). The `location` attribute is encoded using the `SimpleLocation` object which stores start, stop and strand information. You can find more details about `SeqFeature` and `SimpleLocation` objects [here](https://biopython.org/docs/latest/Tutorial/chapter_seq_annot.html#feature-location-and-position-objects).\n",
    "\n",
    "Let us look at a demo to store the features in the \"Vibrio_cholerae_N16961.bed\" BED file and annotate the sequence with the features. We'll use it to then extract the **glnL** gene sequence which we are quite familiar with."
   ]
  },
  {
   "cell_type": "code",
   "execution_count": 17,
   "metadata": {},
   "outputs": [
    {
     "name": "stdout",
     "output_type": "stream",
     "text": [
      "ID: NZ_CP028827.1\n",
      "Name: NZ_CP028827.1\n",
      "Description: NZ_CP028827.1 Vibrio cholerae strain N16961 chromosome 1, complete sequence\n",
      "Number of features: 2583\n",
      "Seq('GTGTCATCTTCGCTATGGTTGCAATGTTTGCAACGGCTTCAGGAAGAGCTACCT...ATC')\n",
      "\n",
      "\n",
      ">glnL\n",
      "GTGAGTGCAGAATTAAGCCAAACCATCATTAATAATCAGGTCACATCAGTGCTCATTTTGGACGAGTCACTGATGATTCGCTACGCCAACCCTGCCGCTGAACAGCTGTTTTCACAAAGTGCTAAACGCTTGATGCATCAAAGCTTAAATCATTTAGTGCAACACTCCTCTCTCGATTTACAACTGCTCACGCAGCCACTCCAGAGCGGACAAAGCATTACTGACAGCGATGTCACCTTGGTGATCGATAGCAAACCCTTAATGCTCGAAGTCACCGTCAGCCCGATTTCTTGGCACAAAGAGCTGCTGTTACTGGCCGAAATGCGCACGATTGGTCAACAACGCCGGCTAACCCAAGAACTCAATCAACACGCTCAGCAACAAGCGGCTAAGTTATTGGTCAGAGGCTTGGCTCATGAAATCAAAAATCCTTTGGGTGGTTTAAGAGGTGCGGCCCAGCTCTTAGAGCGTATGCTTCCCGATCCGGCCCTGATGGAATATACCCAAATCATCATCGAACAGGCAGATCGCTTGCGGGGATTGGTTGATCGCTTACTCGGCCCGCAACGTCCGGGGGAGAAAAAATGGGAAAACCTTCACCTGATTTTGGAGAAGGTGCGTCAGTTGGTCGAGCTAGAAGCGGGCGCGAATTTGGTCTTTGAGCGCGATTATGACCCAAGTCTGCCGAATATTTTGATGGACACTGATCAAATCGAACAAGCCTTACTGAACATTGTCAGTAATGCGGCGCAAATTTTGACTAACCAAACGCACGGCGTGATCACCTTGCGCACCAGAACAGTGCATCAAGCCAATATCCATGGTCAACGTCATAAGCTCGTCGCCAGCATCGAGATTATCGATAACGGCCCCGGCATCCCTCCTGAGCTGCAAGATACGCTGTTTTATCCCATGGTGAGTGGCCGCGAAGGAGGCACTGGCTTGGGGTTATCCATTTCACAAAACCTGATCGATCAACATCAGGGAAAAATAGAGGTGCAAAGCTGGCCAGGACGCACCGTGTTTACCATTTATTTGCCAATTTTGAATTGCTGT\n",
      "\n",
      "\n",
      "ID: NZ_CP028828.1\n",
      "Name: NZ_CP028828.1\n",
      "Description: NZ_CP028828.1 Vibrio cholerae strain N16961 chromosome 2, complete sequence\n",
      "Number of features: 1065\n",
      "Seq('TCAGTTTAGCTTACGCTGCACAAAATCAAGAATATCTTGCATCAGCTCATCATC...GAC')\n",
      "\n",
      "\n"
     ]
    }
   ],
   "source": [
    "from Bio.Seq import Seq\n",
    "from Bio.SeqFeature import SeqFeature, SimpleLocation\n",
    "\n",
    "#read in the fasta file\n",
    "records = SeqIO.parse(\"Vibrio_cholerae_N16961.fna\", \"fasta\")\n",
    "\n",
    "#list to store the SeqFeature objects for every feature in bed file\n",
    "features = []\n",
    "\n",
    "#read in the contents of the bed file\n",
    "with open(\"Vibrio_cholerae_N16961.bed\") as bed_file:\n",
    "    for line in bed_file:\n",
    "        feature = line.strip().split(\"\\t\")\n",
    "        bed_id = feature[0]\n",
    "        start = int(feature[1])\n",
    "        stop = int(feature[2])\n",
    "        gene = feature[3]\n",
    "        strand = 1 if feature[5] == \"+\" else -1 #strand is encoded as 1 for forward strand and -1 for reverse strand\n",
    "        location = SimpleLocation(start, stop, strand=strand) #object to store the coordinates and the strand information\n",
    "        feature = SeqFeature(location, type=\"gene\", qualifiers={\"gene\": gene, \"bed_id\": bed_id}) #object to store the feature information\n",
    "        features.append(feature) \n",
    "\n",
    "#annotate the sequence with feature object created above\n",
    "for record in records:\n",
    "    for feature in features:\n",
    "        if record.id == feature.qualifiers[\"bed_id\"]: #match the sequence IDs\n",
    "            record.features.append(feature)\n",
    "    print(record)\n",
    "    print(\"\\n\")\n",
    "\n",
    "    #extarct glnL gene sequence \n",
    "    for feature in record.features:\n",
    "        if feature.qualifiers[\"gene\"] == \"glnL\":\n",
    "            glnl_seq = feature.extract(record.seq)\n",
    "            print(\">glnL\")\n",
    "            print(glnl_seq)\n",
    "            print(\"\\n\")"
   ]
  },
  {
   "cell_type": "markdown",
   "metadata": {},
   "source": [
    "Notice above that the 'Number of features' for each sequence has been updated. Further, since the `SeqFeature` object for **glnL** has the information that it is encoded on the negative strand, reverse complementing it is automatically taken care of without any extra code.\n",
    "\n",
    "We can take a look at the contents of the `SeqFeature` object by printing it."
   ]
  },
  {
   "cell_type": "code",
   "execution_count": 18,
   "metadata": {},
   "outputs": [
    {
     "name": "stdout",
     "output_type": "stream",
     "text": [
      "type: gene\n",
      "location: [3:973](-)\n",
      "qualifiers:\n",
      "    Key: bed_id, Value: NZ_CP028828.1\n",
      "    Key: gene, Value: N16961_RS13990\n",
      "\n"
     ]
    }
   ],
   "source": [
    "print(record.features[0])"
   ]
  },
  {
   "cell_type": "markdown",
   "metadata": {},
   "source": [
    "You can find more information on the capabilities of the `SeqIO` package in the documentation [here](https://biopython.org/docs/1.75/api/Bio.SeqIO.html). For more examples on handling `SeqRecord`, refer to the [tutorial](https://biopython.org/docs/latest/Tutorial/chapter_seq_annot.html)."
   ]
  },
  {
   "cell_type": "markdown",
   "metadata": {},
   "source": [
    "### Phylo package"
   ]
  },
  {
   "cell_type": "markdown",
   "metadata": {},
   "source": [
    "Biopython includes the `Phylo` package to work with phylogenetic trees. A phylogenetic tree depicts the evolutionary history of a group of species, organisms, or genes based on similarities and differences in their physical or genetic characteristics. If you remember from assignment 3, a common way to represent a phylogenetic tree or any dendrogram is Newick format. Using this package, we can perform tree-related operations like reading, drawing, traversing, coloring the branches, searching for nodes, rooting and unrooting, etc. Before we look at some examples, let us try to understand a few terminologies associated with phylogenetic trees to better interpret the outputs we see.\n",
    "\n",
    "* Root - the most recent common ancestor of all the species in the tree\n",
    "* Branch - a line that connects nodes in the tree representing evolutionary relationships and the passage of genetic changes.\n",
    "* Branch length - indicates the amount of evolutionary change or time.\n",
    "* Clade - group of nodes that consists of a single common ancestor and all its descendants.\n",
    "* Confidence/Bootstrap values - a statistical measure of confidence that can be placed in a specific branch or clade, higher values indicate higher confidence.\n",
    "* Rooted tree - a tree with a single root represents the most recent common ancestor of all the entities in the tree and shows the direction of evolutionary time.\n",
    "* Unrooted tree - a tree that does not have a root, thus doesn't indicate the direction of evolution but represents the relationships among species.\n",
    "\n",
    "We'll look at a few phylogenetic tree operations here using the tree.nwk file."
   ]
  },
  {
   "cell_type": "code",
   "execution_count": 19,
   "metadata": {},
   "outputs": [
    {
     "name": "stdout",
     "output_type": "stream",
     "text": [
      "(Gallus_gallus:0.04596,((Homo_sapiens:0.00957,Pan_troglodytes:0.03864)100:0.01549,\n",
      "(Rattus_norvegicus:0.03107,Mus_musculus:0.01651)91:0.00398)99:0.01629)"
     ]
    }
   ],
   "source": [
    "!cat tree.nwk"
   ]
  },
  {
   "cell_type": "code",
   "execution_count": 20,
   "metadata": {},
   "outputs": [
    {
     "name": "stdout",
     "output_type": "stream",
     "text": [
      "Tree(rooted=False, weight=1.0)\n",
      "    Clade()\n",
      "        Clade(branch_length=0.04596, name='Gallus_gallus')\n",
      "        Clade(branch_length=0.01629, confidence=99)\n",
      "            Clade(branch_length=0.01549, confidence=100)\n",
      "                Clade(branch_length=0.00957, name='Homo_sapiens')\n",
      "                Clade(branch_length=0.03864, name='Pan_troglodytes')\n",
      "            Clade(branch_length=0.00398, confidence=91)\n",
      "                Clade(branch_length=0.03107, name='Rattus_norvegicus')\n",
      "                Clade(branch_length=0.01651, name='Mus_musculus')\n"
     ]
    }
   ],
   "source": [
    "from Bio import Phylo\n",
    "tree = Phylo.read(\"tree.nwk\", \"newick\")\n",
    "print(tree)"
   ]
  },
  {
   "cell_type": "markdown",
   "metadata": {},
   "source": [
    "The `read()` function returns a `Tree` object that contains all the information about the tree, such as whether it’s rooted or unrooted. It has one root clade, and under that, it’s nested lists of clades down to the nodes.\n",
    "\n",
    "`draw_ascii()` creates a simple ASCII-art (plain text) dendrogram to visualize the tree."
   ]
  },
  {
   "cell_type": "code",
   "execution_count": 21,
   "metadata": {},
   "outputs": [
    {
     "name": "stdout",
     "output_type": "stream",
     "text": [
      "  _____________________________________ Gallus_gallus\n",
      " |\n",
      "_|                          _______ Homo_sapiens\n",
      " |             ____________|\n",
      " |            |            |________________________________ Pan_troglodytes\n",
      " |____________|\n",
      "              |   __________________________ Rattus_norvegicus\n",
      "              |__|\n",
      "                 |_____________ Mus_musculus\n",
      "\n"
     ]
    }
   ],
   "source": [
    "Phylo.draw_ascii(tree)"
   ]
  },
  {
   "cell_type": "markdown",
   "metadata": {},
   "source": [
    "We can search for specific clades by their names using the `.find_names()` method. We can then use this information to perform other operations like finding the distance between them."
   ]
  },
  {
   "cell_type": "code",
   "execution_count": 22,
   "metadata": {},
   "outputs": [
    {
     "name": "stdout",
     "output_type": "stream",
     "text": [
      "Distance between Homo_sapiens and Pan_troglodytes is 0.04821\n"
     ]
    }
   ],
   "source": [
    "clade1 = tree.find_any(name=\"Homo_sapiens\")\n",
    "clade2 = tree.find_any(name=\"Pan_troglodytes\")\n",
    "\n",
    "distance = tree.distance(clade1, clade2)\n",
    "print(f\"Distance between {clade1} and {clade2} is {distance}\")"
   ]
  },
  {
   "cell_type": "markdown",
   "metadata": {},
   "source": [
    "There are additional operations you can perform with `Phylo` package its subpackages and modules. You can read more about them in the [documentation.](https://biopython.org/docs/latest/Tutorial/chapter_phylo.html) "
   ]
  },
  {
   "cell_type": "markdown",
   "metadata": {},
   "source": [
    "In summary, Biopython offers a wide range of powerful packages and modules beyond what we've looked at, including tools for running BLAST, performing pairwise and multiple sequence alignments, population genetics, motif analysis, clustering algorithms, and structural biology to name a few. Whatever type of biological data you're working with, chances are that Biopython has a package to help you process it. The best place to look for all that it offers is the [Biopython documentation](https://biopython.org/docs/latest/index.html) which is extensive with plenty of usage examples. They also have helpful [tutorials](https://biopython.org/wiki/Category:Wiki_Documentation) to follow along."
   ]
  }
 ],
 "metadata": {
  "kernelspec": {
   "display_name": "Python 3 (ipykernel)",
   "language": "python",
   "name": "python3"
  },
  "language_info": {
   "codemirror_mode": {
    "name": "ipython",
    "version": 3
   },
   "file_extension": ".py",
   "mimetype": "text/x-python",
   "name": "python",
   "nbconvert_exporter": "python",
   "pygments_lexer": "ipython3",
   "version": "3.12.7"
  }
 },
 "nbformat": 4,
 "nbformat_minor": 4
}
