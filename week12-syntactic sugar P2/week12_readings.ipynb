{
 "cells": [
  {
   "cell_type": "markdown",
   "metadata": {},
   "source": [
    "# Week 12 Further Readings"
   ]
  },
  {
   "cell_type": "markdown",
   "metadata": {},
   "source": [
    "Last week we saw a few pieces of Python's syntactic sugar. We'll continue exploring more such constructs here. "
   ]
  },
  {
   "cell_type": "markdown",
   "metadata": {},
   "source": [
    "### Operators\n",
    "\n",
    "We have been using various types of operators like `+`, `-`, `*`, `/`, `**`, `>`, `>=`, `==`, `in` and so on throughout. But did you know these operators are also part of Python's syntactic sugar? If you're wondering what might be the longhand notations of these, the answer lies in the dunder methods implemented by the classes of operands. We looked at a few of these methods for comparative operators in the handouts on introduction to classes notebook, we'll look at those and a few more below:"
   ]
  },
  {
   "cell_type": "code",
   "execution_count": 1,
   "metadata": {},
   "outputs": [
    {
     "data": {
      "text/plain": [
       "6"
      ]
     },
     "execution_count": 1,
     "metadata": {},
     "output_type": "execute_result"
    }
   ],
   "source": [
    "(4).__add__(2) #equivalent to 4 + 2"
   ]
  },
  {
   "cell_type": "code",
   "execution_count": 2,
   "metadata": {},
   "outputs": [
    {
     "data": {
      "text/plain": [
       "2"
      ]
     },
     "execution_count": 2,
     "metadata": {},
     "output_type": "execute_result"
    }
   ],
   "source": [
    "(4).__sub__(2) #equivalent to 4 - 2"
   ]
  },
  {
   "cell_type": "code",
   "execution_count": 3,
   "metadata": {},
   "outputs": [
    {
     "data": {
      "text/plain": [
       "8"
      ]
     },
     "execution_count": 3,
     "metadata": {},
     "output_type": "execute_result"
    }
   ],
   "source": [
    "(4).__mul__(2) #equivalent to 4 * 2"
   ]
  },
  {
   "cell_type": "code",
   "execution_count": 4,
   "metadata": {},
   "outputs": [
    {
     "data": {
      "text/plain": [
       "2.0"
      ]
     },
     "execution_count": 4,
     "metadata": {},
     "output_type": "execute_result"
    }
   ],
   "source": [
    "(4).__truediv__(2) #equivalent to 4 / 2"
   ]
  },
  {
   "cell_type": "code",
   "execution_count": 5,
   "metadata": {},
   "outputs": [
    {
     "data": {
      "text/plain": [
       "2"
      ]
     },
     "execution_count": 5,
     "metadata": {},
     "output_type": "execute_result"
    }
   ],
   "source": [
    "(4).__floordiv__(2) #equivalent to 4 // 2"
   ]
  },
  {
   "cell_type": "code",
   "execution_count": 6,
   "metadata": {},
   "outputs": [
    {
     "data": {
      "text/plain": [
       "16"
      ]
     },
     "execution_count": 6,
     "metadata": {},
     "output_type": "execute_result"
    }
   ],
   "source": [
    "(4).__pow__(2) #equivalent to 4 ** 2"
   ]
  },
  {
   "cell_type": "code",
   "execution_count": 7,
   "metadata": {},
   "outputs": [
    {
     "data": {
      "text/plain": [
       "True"
      ]
     },
     "execution_count": 7,
     "metadata": {},
     "output_type": "execute_result"
    }
   ],
   "source": [
    "(4).__ge__(2) #equivalent to 4 >= 2"
   ]
  },
  {
   "cell_type": "code",
   "execution_count": 8,
   "metadata": {},
   "outputs": [
    {
     "data": {
      "text/plain": [
       "False"
      ]
     },
     "execution_count": 8,
     "metadata": {},
     "output_type": "execute_result"
    }
   ],
   "source": [
    "(4).__lt__(2) #equivalent to 4 < 2"
   ]
  },
  {
   "cell_type": "code",
   "execution_count": 9,
   "metadata": {},
   "outputs": [
    {
     "data": {
      "text/plain": [
       "False"
      ]
     },
     "execution_count": 9,
     "metadata": {},
     "output_type": "execute_result"
    }
   ],
   "source": [
    "(4).__eq__(2) #equivalent to 4 == 2"
   ]
  },
  {
   "cell_type": "code",
   "execution_count": 10,
   "metadata": {},
   "outputs": [
    {
     "data": {
      "text/plain": [
       "True"
      ]
     },
     "execution_count": 10,
     "metadata": {},
     "output_type": "execute_result"
    }
   ],
   "source": [
    "(4).__ne__(2) #equivalent to 4 != 2"
   ]
  },
  {
   "cell_type": "code",
   "execution_count": 11,
   "metadata": {},
   "outputs": [
    {
     "data": {
      "text/plain": [
       "True"
      ]
     },
     "execution_count": 11,
     "metadata": {},
     "output_type": "execute_result"
    }
   ],
   "source": [
    "\"aeiou\".__contains__(\"a\") #equivalent to \"a\" in \"aeiou\""
   ]
  },
  {
   "cell_type": "markdown",
   "metadata": {},
   "source": [
    "We have looked at examples where the shorthand version makes our code unreadable beyond a certain point, but operators are examples of the other way around. Not only is it easier to write shorthand notations, but they also make the code more readable as these are symbols we use in everyday life. Imagine having to write the BLAST hit filtering condition like this!\n",
    "\n",
    "```Python\n",
    "if pident.__gt__(30) and (matchlen).__gt__((0.9).__mul__(qlen)):\n",
    "```"
   ]
  },
  {
   "cell_type": "markdown",
   "metadata": {},
   "source": [
    "If we want any of these operators to work with the objects of custom-defined classes, we need to define the behavior using corresponding methods to support the operator. You can find a list of these dunder methods and their equivalent operators [here](https://docs.python.org/3/reference/datamodel.html#object.__add__). \n",
    "\n",
    "Further, this is the reason why operators like `+` behave differently with different data types. For example, when used with numeric data types like integers, `+` gives the sum of two numbers, but if we add two strings, it returns a concatenated string and when we add two lists, we extend the list by appending the contents of the second list to the first. This behavior of the same operator being used to perform different operations with different object types is called **operator overloading** in object-oriented programming language."
   ]
  },
  {
   "cell_type": "code",
   "execution_count": 12,
   "metadata": {},
   "outputs": [
    {
     "data": {
      "text/plain": [
       "5"
      ]
     },
     "execution_count": 12,
     "metadata": {},
     "output_type": "execute_result"
    }
   ],
   "source": [
    "2 + 3"
   ]
  },
  {
   "cell_type": "code",
   "execution_count": 13,
   "metadata": {},
   "outputs": [
    {
     "data": {
      "text/plain": [
       "'abcdef'"
      ]
     },
     "execution_count": 13,
     "metadata": {},
     "output_type": "execute_result"
    }
   ],
   "source": [
    "\"abc\" + \"def\""
   ]
  },
  {
   "cell_type": "code",
   "execution_count": 14,
   "metadata": {},
   "outputs": [
    {
     "data": {
      "text/plain": [
       "[1, 2, 3, 4]"
      ]
     },
     "execution_count": 14,
     "metadata": {},
     "output_type": "execute_result"
    }
   ],
   "source": [
    "[1, 2, 3] + [4]"
   ]
  },
  {
   "cell_type": "markdown",
   "metadata": {},
   "source": [
    "### Attribute access and method calls"
   ]
  },
  {
   "cell_type": "markdown",
   "metadata": {},
   "source": [
    "Similar to operators having respective dunder methods, there are longhand notations for the `.` operator used to access class attributes and methods, and calling methods as well. Below is a slightly modified version of the Circle class from the Subclasses and Inheritance handout. We have an attribute called \"radius\" and a method called \"area\". The generic form to access an attribute or a method can be written as `instance.attribute` or `instance.method()`."
   ]
  },
  {
   "cell_type": "code",
   "execution_count": 15,
   "metadata": {},
   "outputs": [
    {
     "name": "stdout",
     "output_type": "stream",
     "text": [
      "2\n",
      "12.56\n"
     ]
    }
   ],
   "source": [
    "class Circle:\n",
    "    def __init__(self, radius: float):\n",
    "        self.radius = radius\n",
    "    \n",
    "    def area(self) -> float:\n",
    "        return 3.14 * (self.radius ** 2)\n",
    "\n",
    "c = Circle(2)\n",
    "print(c.radius) #attribute\n",
    "print(c.area()) #method"
   ]
  },
  {
   "cell_type": "markdown",
   "metadata": {},
   "source": [
    "Behind the scenes, when we access an attribute, a class-related built-in function called `gettattr()` is called. More such built-in functions are listed [here](https://realpython.com/python-built-in-functions/#working-with-classes-objects-and-attributes)."
   ]
  },
  {
   "cell_type": "code",
   "execution_count": 16,
   "metadata": {},
   "outputs": [
    {
     "data": {
      "text/plain": [
       "2"
      ]
     },
     "execution_count": 16,
     "metadata": {},
     "output_type": "execute_result"
    }
   ],
   "source": [
    "#longer version\n",
    "getattr(c, \"radius\")"
   ]
  },
  {
   "cell_type": "markdown",
   "metadata": {},
   "source": [
    "Further, when methods are called, internally it translates to something like `Class.method(instance)`:"
   ]
  },
  {
   "cell_type": "code",
   "execution_count": 17,
   "metadata": {},
   "outputs": [
    {
     "data": {
      "text/plain": [
       "12.56"
      ]
     },
     "execution_count": 17,
     "metadata": {},
     "output_type": "execute_result"
    }
   ],
   "source": [
    "#longer version\n",
    "Circle.area(c)"
   ]
  },
  {
   "cell_type": "markdown",
   "metadata": {},
   "source": [
    "### Lambda functions"
   ]
  },
  {
   "cell_type": "markdown",
   "metadata": {},
   "source": [
    "You might have already used Lambda functions in the isPCR assignment to sort the tuples on a particular column. Prof. Collins talked about the usage of Lambda functions in detail in the [discussion post](https://gatech.instructure.com/courses/412702/discussion_topics/1960937). I'm including them here for the sake of completeness as they are the syntactic sugar version of single-line functions. \n",
    "\n",
    "Lambda functions are anonymous functions used for implementing simple, one-time operations and defined using the `lambda` keyword. They differ from normal functions in 3 ways:\n",
    "1. Use `lambda` instead of `def` for defining the function\n",
    "2. Do not have a name\n",
    "3. Should contain only one expression\n",
    "\n",
    "A general syntax for a `lambda` function is:\n",
    "`lambda argument: expression`\n",
    "\n",
    "Let us look at a simple example:"
   ]
  },
  {
   "cell_type": "code",
   "execution_count": 18,
   "metadata": {},
   "outputs": [
    {
     "data": {
      "text/plain": [
       "7"
      ]
     },
     "execution_count": 18,
     "metadata": {},
     "output_type": "execute_result"
    }
   ],
   "source": [
    "(lambda x: x + 5)(2) #surrounding the function and its argument with parentheses allows providing an argument to the function on the same line"
   ]
  },
  {
   "cell_type": "code",
   "execution_count": 19,
   "metadata": {},
   "outputs": [
    {
     "name": "stdout",
     "output_type": "stream",
     "text": [
      "7\n"
     ]
    }
   ],
   "source": [
    "#longer version\n",
    "def increment_by_5_func(x):\n",
    "    return x + 5\n",
    "\n",
    "print(increment_by_5_func(2))"
   ]
  },
  {
   "cell_type": "markdown",
   "metadata": {},
   "source": [
    "An alternate way of passing arguments to the lambda function other than using parentheses is to first assign the Lambda function to a variable and then passing the argument to that variable as shown below:"
   ]
  },
  {
   "cell_type": "code",
   "execution_count": 20,
   "metadata": {},
   "outputs": [
    {
     "name": "stdout",
     "output_type": "stream",
     "text": [
      "7\n"
     ]
    }
   ],
   "source": [
    "increment_by_5_lambda = lambda x: x + 5\n",
    "print(increment_by_5_lambda(2))"
   ]
  },
  {
   "cell_type": "markdown",
   "metadata": {},
   "source": [
    "Note that `increment_by_5_lambda` is the variable name assigned to the lambda function and not the name of the function itself. We can confirm this by printing these variables:"
   ]
  },
  {
   "cell_type": "code",
   "execution_count": 21,
   "metadata": {},
   "outputs": [
    {
     "name": "stdout",
     "output_type": "stream",
     "text": [
      "<function <lambda> at 0x7fb1163ae020>\n",
      "<function increment_by_5_func at 0x7fb1163aeac0>\n"
     ]
    }
   ],
   "source": [
    "print(increment_by_5_lambda)\n",
    "print(increment_by_5_func)"
   ]
  },
  {
   "cell_type": "markdown",
   "metadata": {},
   "source": [
    "Lambda functions can take multiple arguments and return multiple values. When returning multiple values, we should enclose them within round brackets to return them as a tuple."
   ]
  },
  {
   "cell_type": "code",
   "execution_count": 22,
   "metadata": {},
   "outputs": [
    {
     "name": "stdout",
     "output_type": "stream",
     "text": [
      "(10, 13)\n"
     ]
    }
   ],
   "source": [
    "single_arg = lambda x: (x+2, x+5)\n",
    "print(single_arg(8))"
   ]
  },
  {
   "cell_type": "code",
   "execution_count": 23,
   "metadata": {},
   "outputs": [
    {
     "name": "stdout",
     "output_type": "stream",
     "text": [
      "(5, 10)\n"
     ]
    }
   ],
   "source": [
    "multi_arg = lambda x, y: (x+2, y+5)\n",
    "print(multi_arg(3, 5))"
   ]
  },
  {
   "cell_type": "markdown",
   "metadata": {},
   "source": [
    "As functions get complicated, using lambda functions becomes less readable. In such cases, it is better to switch back to normal functions. Further, Lambda functions do not support type hinting and docstrings(even though there is a hack to force docstrings, it is not recommended per Python's best practices). [This blog post](https://realpython.com/python-lambda/) is a great source to learn more about Lambda functions through examples."
   ]
  },
  {
   "cell_type": "markdown",
   "metadata": {},
   "source": [
    "### `yield from` and `iter()`"
   ]
  },
  {
   "cell_type": "markdown",
   "metadata": {},
   "source": [
    "Generator functions behave like iterators and they return generator instances that we can iterate over to access the values. We implemented an \"iter_int\" method in the class that iterates over integers to return the digits one by one. Below is the code:"
   ]
  },
  {
   "cell_type": "code",
   "execution_count": 24,
   "metadata": {},
   "outputs": [
    {
     "name": "stdout",
     "output_type": "stream",
     "text": [
      "6\n",
      "4\n",
      "2\n",
      "7\n"
     ]
    }
   ],
   "source": [
    "#longer version\n",
    "def iter_int(num):\n",
    "    snum = str(num)\n",
    "    for n in snum:\n",
    "        yield n\n",
    "\n",
    "number = 6427\n",
    "\n",
    "for num in iter_int(number):\n",
    "    print(num)"
   ]
  },
  {
   "cell_type": "markdown",
   "metadata": {},
   "source": [
    "Since the generator functions always have a `for` loop to yield the iterated elements, a shorthand equivalent exists to replace the `for` loop using `yield from`."
   ]
  },
  {
   "cell_type": "code",
   "execution_count": 25,
   "metadata": {},
   "outputs": [
    {
     "name": "stdout",
     "output_type": "stream",
     "text": [
      "6\n",
      "4\n",
      "2\n",
      "7\n"
     ]
    }
   ],
   "source": [
    "#using yield from\n",
    "def iter_int(num):\n",
    "    snum = str(num)\n",
    "    yield from snum\n",
    "\n",
    "number = 6427\n",
    "\n",
    "for num in iter_int(number):\n",
    "    print(num)"
   ]
  },
  {
   "cell_type": "markdown",
   "metadata": {},
   "source": [
    "An alternative to `yield from` is using the built-in function `iter()`. "
   ]
  },
  {
   "cell_type": "code",
   "execution_count": 26,
   "metadata": {},
   "outputs": [
    {
     "name": "stdout",
     "output_type": "stream",
     "text": [
      "6\n",
      "4\n",
      "2\n",
      "7\n"
     ]
    }
   ],
   "source": [
    "#using iter()\n",
    "def iter_int(num):\n",
    "    snum = str(num)\n",
    "    return iter(snum)\n",
    "\n",
    "number = 6427\n",
    "\n",
    "for num in iter_int(number):\n",
    "    print(num)"
   ]
  },
  {
   "cell_type": "markdown",
   "metadata": {},
   "source": [
    "The generator functions and the `iter()` function return generator instances that have an inherent property to control iteration and remember the current state. What this means is that if we stop iterating over the elements returned by the generator function before we reach the end of all the elements returned, we can continue from where we left off. We can see this behavior using the `next()` function which consumes the generator objects one by one."
   ]
  },
  {
   "cell_type": "code",
   "execution_count": 27,
   "metadata": {},
   "outputs": [
    {
     "name": "stdout",
     "output_type": "stream",
     "text": [
      "Yielding first element: 6\n",
      "Yielding second element: 4\n",
      "Yielding third element: 2\n",
      "Yielding fourth element: 7\n"
     ]
    }
   ],
   "source": [
    "#using iter()\n",
    "def iter_int(num):\n",
    "    snum = str(num)\n",
    "    return iter(snum)\n",
    "\n",
    "number = 6427\n",
    "\n",
    "num = iter_int(number)\n",
    "\n",
    "print(f\"Yielding first element: {next(num)}\")\n",
    "print(f\"Yielding second element: {next(num)}\")\n",
    "print(f\"Yielding third element: {next(num)}\")\n",
    "print(f\"Yielding fourth element: {next(num)}\")"
   ]
  },
  {
   "cell_type": "markdown",
   "metadata": {},
   "source": [
    "An important distinction with `iter()` is that we use `return` instead of `yield`. A consequence of this is that while it is possible to have multiple `yield` or `yield from` statements in a generator function, we cannot replace them with `return iter()` as the return statement immediately exits the function ignoring any lines that come after. \n",
    "\n",
    "Another thing to note with multiple `yield` or `yield from` statements: Like any other statement, `yield` or `yield from` statement is executed only once, however, any statement that comes after it will be executed only after all the values returned by them are consumed as we just saw in the above demo."
   ]
  },
  {
   "cell_type": "code",
   "execution_count": 28,
   "metadata": {},
   "outputs": [
    {
     "name": "stdout",
     "output_type": "stream",
     "text": [
      "6\n",
      "4\n",
      "2\n",
      "7\n",
      "This prints\n",
      "6\n",
      "4\n",
      "2\n",
      "7\n"
     ]
    }
   ],
   "source": [
    "#using yield from\n",
    "def iter_int(num):\n",
    "    snum = str(num)\n",
    "    yield from snum\n",
    "    print(\"This prints\")\n",
    "    yield from snum\n",
    "\n",
    "number = 6427\n",
    "\n",
    "for num in iter_int(number):\n",
    "    print(num)"
   ]
  },
  {
   "cell_type": "code",
   "execution_count": 29,
   "metadata": {},
   "outputs": [
    {
     "name": "stdout",
     "output_type": "stream",
     "text": [
      "6\n",
      "4\n",
      "2\n",
      "7\n"
     ]
    }
   ],
   "source": [
    "#using iter()\n",
    "def iter_int(num):\n",
    "    snum = str(num)\n",
    "    return iter(snum)\n",
    "    print(\"This won't print\")\n",
    "    return iter(snum)\n",
    "\n",
    "number = 6427\n",
    "\n",
    "for num in iter_int(number):\n",
    "    print(num)"
   ]
  },
  {
   "cell_type": "markdown",
   "metadata": {},
   "source": [
    "### `with` statement"
   ]
  },
  {
   "cell_type": "markdown",
   "metadata": {},
   "source": [
    "The `with` statement is a very useful syntactic sugar for properly managing external resources such as files that our program reads from or writes to. What exactly do we mean by \"properly managing\" resources? When we open a file within the program, it is loaded into the memory. If we never close the file after working with it, it stays there occupying memory when it is no more required. This is often called a \"memory leak\". If the program deals with hundreds of files and they are never closed(or cleaned up), our system's memory is cluttered with unused resources thus leading to inefficient memory utilization. Every language has a mechanism to free unused resources and reclaim memory called garbage collection, but it is recommended that we explicitly clean these resources in the code. Quoting from the [document](https://docs.python.org/3.13/reference/datamodel.html) - \n",
    "> Some objects contain references to “external” resources such as open files or windows. It is understood that these resources are freed when the object is garbage-collected, but since garbage collection is not guaranteed to happen, such objects also provide an explicit way to release the external resource, usually a close() method. Programs are strongly recommended to explicitly close such objects. The `try…finally` statement and the `with` statement provide convenient ways to do this.\n",
    "\n",
    "Now that we understand the importance of properly managing resources, let us see how to implement that in code."
   ]
  },
  {
   "cell_type": "code",
   "execution_count": 30,
   "metadata": {},
   "outputs": [],
   "source": [
    "#create a file\n",
    "!echo \"This is a line of text\" > file.txt"
   ]
  },
  {
   "cell_type": "code",
   "execution_count": 31,
   "metadata": {},
   "outputs": [
    {
     "name": "stdout",
     "output_type": "stream",
     "text": [
      "This is a line of text\n",
      "\n"
     ]
    }
   ],
   "source": [
    "file = open(\"file.txt\")\n",
    "content = file.read()\n",
    "print(content)\n",
    "\n",
    "file.close()"
   ]
  },
  {
   "cell_type": "markdown",
   "metadata": {},
   "source": [
    "The above code works well except if an unexpected error occurs when reading the file using the `read()` function and forces the program to terminate. In that case, we never reach the `close()` statement. This is the reason it is recommended to handle resources like files within a `try`-`except`-`finally` block as shown below:"
   ]
  },
  {
   "cell_type": "code",
   "execution_count": 32,
   "metadata": {},
   "outputs": [
    {
     "name": "stdout",
     "output_type": "stream",
     "text": [
      "This is a line of text\n",
      "\n"
     ]
    }
   ],
   "source": [
    "#longer version\n",
    "file = open(\"file.txt\")\n",
    "\n",
    "try:\n",
    "    content = file.read()\n",
    "    print(content)\n",
    "except Exception as e:\n",
    "    print(f\"An exception occurred when reading: {e}\")\n",
    "finally:\n",
    "    file.close()"
   ]
  },
  {
   "cell_type": "markdown",
   "metadata": {},
   "source": [
    "If you remember, the `finally` block is always executed even if the `try` block fails. So it is guaranteed that the file will be closed. \n",
    "\n",
    "However, the `with` statements as we have seen simplify this syntax:"
   ]
  },
  {
   "cell_type": "code",
   "execution_count": 33,
   "metadata": {},
   "outputs": [
    {
     "name": "stdout",
     "output_type": "stream",
     "text": [
      "This is a line of text\n",
      "\n"
     ]
    }
   ],
   "source": [
    "#using with statement\n",
    "with open(\"file.txt\") as file:\n",
    "    content = file.read()\n",
    "    print(content)"
   ]
  },
  {
   "cell_type": "markdown",
   "metadata": {},
   "source": [
    "Once we deindent from the `with` statement, the file is automatically closed and hence avoids the necessity to explicitly close the file using `close()`."
   ]
  }
 ],
 "metadata": {
  "kernelspec": {
   "display_name": "Python 3 (ipykernel)",
   "language": "python",
   "name": "python3"
  },
  "language_info": {
   "codemirror_mode": {
    "name": "ipython",
    "version": 3
   },
   "file_extension": ".py",
   "mimetype": "text/x-python",
   "name": "python",
   "nbconvert_exporter": "python",
   "pygments_lexer": "ipython3",
   "version": "3.12.7"
  }
 },
 "nbformat": 4,
 "nbformat_minor": 4
}
