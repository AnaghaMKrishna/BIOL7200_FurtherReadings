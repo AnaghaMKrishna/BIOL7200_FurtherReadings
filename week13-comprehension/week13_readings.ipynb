{
 "cells": [
  {
   "cell_type": "markdown",
   "metadata": {},
   "source": [
    "# Week 13 Further Readings"
   ]
  },
  {
   "cell_type": "markdown",
   "metadata": {},
   "source": [
    "Over the last two weeks, we saw quite a few Python's syntactic sugar constructs. However, there were two major ones missing from the list, comprehensions and decorators. We already learned about decorators in class this week and delved into what they are, when to use them, the non-syntactic sugar equivalent and some commonly used decorators. Below, we'll focus on comprehensions. Even though this is technically a continuation of the syntactic sugar series, comprehension is a broad topic that derserves a separate discussion."
   ]
  },
  {
   "cell_type": "markdown",
   "metadata": {},
   "source": [
    "### Comprehensions"
   ]
  },
  {
   "cell_type": "markdown",
   "metadata": {},
   "source": [
    "Comprehensions are one of the distinctive features of Python that you would have encountered as they are very popular. These handy, elegant constructs allow creating or manipulating data types such as lists, dictionaries etc. You might be familiar with list and dictionary comprehensions but there are also set and generator comprehensions. We'll look at each of them with examples."
   ]
  },
  {
   "cell_type": "markdown",
   "metadata": {},
   "source": [
    "#### List Comprehensions\n",
    "\n",
    "List comprehensions are useful for creating a list using another iterable or transforming it in some way like filtering out some elements or modifying each element of the list. Generally, we can achieve this using a `for` loop to iterate over each element of an iterable to create a list or transform its elements."
   ]
  },
  {
   "cell_type": "code",
   "execution_count": 1,
   "metadata": {},
   "outputs": [
    {
     "name": "stdout",
     "output_type": "stream",
     "text": [
      "['A', 'C', 'G', 'A', 'T', 'G', 'A', 'C', 'T', 'A', 'A', 'G', 'A', 'T', 'C', 'G', 'A', 'T', 'A', 'A', 'A']\n"
     ]
    }
   ],
   "source": [
    "#longer version\n",
    "seq = \"ACGATGACTAAGATCGATAAA\"\n",
    "base_list = []\n",
    "for base in seq:\n",
    "    base_list.append(base)\n",
    "\n",
    "print(base_list)"
   ]
  },
  {
   "cell_type": "code",
   "execution_count": 2,
   "metadata": {},
   "outputs": [
    {
     "name": "stdout",
     "output_type": "stream",
     "text": [
      "['A', 'C', 'G', 'A', 'T', 'G', 'A', 'C', 'T', 'A', 'A', 'G', 'A', 'T', 'C', 'G', 'A', 'T', 'A', 'A', 'A']\n"
     ]
    }
   ],
   "source": [
    "#using list comprehension\n",
    "base_list = [base for base in seq]\n",
    "print(base_list)"
   ]
  },
  {
   "cell_type": "markdown",
   "metadata": {},
   "source": [
    "Notice how we combined the 3 lines, one line required to initialize the list and two lines of the `for` loop into a single line. Rather than creating an empty list and appending each element, we can simply define the list and its contents at the same time using list comprehension.\n",
    "\n",
    "Let us keep building on this list to see the power of list comprehensions. Say we want to reverse complement the bases, we can do this in a single line using list comprehension:"
   ]
  },
  {
   "cell_type": "code",
   "execution_count": 3,
   "metadata": {},
   "outputs": [
    {
     "name": "stdout",
     "output_type": "stream",
     "text": [
      "TTTATCGATCTTAGTCATCGT\n"
     ]
    }
   ],
   "source": [
    "complement_dict = {'A': 'T', 'T': 'A', 'G': 'C', 'C': 'G'}\n",
    "rc_bases = [complement_dict[base] for base in seq[::-1]]\n",
    "\n",
    "print(\"\".join(rc_bases))"
   ]
  },
  {
   "cell_type": "markdown",
   "metadata": {},
   "source": [
    "To break this down, we are looking up the value associated with each base in the sequence from the dictionary(the complementing part). By `seq[::-1]`, we are reversing the sequence and the bases are iterated over from the end(the reversing part).\n",
    "\n",
    "We can also use conditionals within the list comprehension to perform some checks. Say we had some low-quality bases in our sequence that we want to remove before reverse complementing:"
   ]
  },
  {
   "cell_type": "code",
   "execution_count": 4,
   "metadata": {},
   "outputs": [
    {
     "name": "stdout",
     "output_type": "stream",
     "text": [
      "TTTATCGATCTTAGTCATCGT\n"
     ]
    }
   ],
   "source": [
    "seq = \"ACGNATNGANCTAAGATCGNATAAA\"\n",
    "\n",
    "rc_bases = [complement_dict[base] for base in seq[::-1] if base != 'N']\n",
    "\n",
    "print(\"\".join(rc_bases))"
   ]
  },
  {
   "cell_type": "markdown",
   "metadata": {},
   "source": [
    "We can also use the conditional expressions we looked at earlier within the list comprehension. Quick recap, conditional expressions are of the form `task_if_true if condition else task_if_false`\n",
    "\n",
    "If we want to transcribe our DNA sequence into RNA sequence:"
   ]
  },
  {
   "cell_type": "code",
   "execution_count": 5,
   "metadata": {},
   "outputs": [
    {
     "name": "stdout",
     "output_type": "stream",
     "text": [
      "ACGAUGACUUAUGGAUCGAUAUAA\n"
     ]
    }
   ],
   "source": [
    "seq = \"ACGATGACTTATGGATCGATATAA\"\n",
    "\n",
    "rna = [base if base != \"T\" else \"U\" for base in seq]\n",
    "\n",
    "print(\"\".join(rna))"
   ]
  },
  {
   "cell_type": "markdown",
   "metadata": {},
   "source": [
    "Notice the order of conditionals is different when just using `if` conditional(after the for loop) versus using conditional expression(before the for loop).\n",
    "\n",
    "To add another layer of complexity, we can also write nested loops within list comprehension. To demonstrate this, we'll switch to a different example that requires a nested loop. For the assignment on implementing the Needleman-Wunsch algorithm to align two sequences of length 'm' and 'n', the first step was to create a matrix of dimensions (m+1) * (n+1) initialized with some value(say 0). Let us implement that using list comprehension using nested loops:"
   ]
  },
  {
   "cell_type": "code",
   "execution_count": 6,
   "metadata": {},
   "outputs": [
    {
     "name": "stdout",
     "output_type": "stream",
     "text": [
      "[0, 0, 0, 0, 0, 0, 0, 0, 0]\n",
      "[0, 0, 0, 0, 0, 0, 0, 0, 0]\n",
      "[0, 0, 0, 0, 0, 0, 0, 0, 0]\n",
      "[0, 0, 0, 0, 0, 0, 0, 0, 0]\n",
      "[0, 0, 0, 0, 0, 0, 0, 0, 0]\n",
      "[0, 0, 0, 0, 0, 0, 0, 0, 0]\n",
      "[0, 0, 0, 0, 0, 0, 0, 0, 0]\n"
     ]
    }
   ],
   "source": [
    "seq1 = \"AGACATGA\" #len = 8\n",
    "seq2 = \"GACTAA\" #len = 6\n",
    "m = len(seq1)\n",
    "n = len(seq2)\n",
    "\n",
    "mat = [[0 for _ in range(m+1)] for _ in range(n+1)]\n",
    "for row in mat:\n",
    "    print(row)"
   ]
  },
  {
   "cell_type": "markdown",
   "metadata": {},
   "source": [
    "Here, we create a list of length (m+1) and duplicate this list (n+1) times essentially creating a 2D matrix filled with zeros. Notice that the code starts becoming less readable with an increase in the number of nested loops. Just for fun, we'll write 3 nested loops and see how complicated our comprehension can get. Suppose we have a 3D list and we want to flatten it into a 1D list:"
   ]
  },
  {
   "cell_type": "code",
   "execution_count": 7,
   "metadata": {},
   "outputs": [
    {
     "name": "stdout",
     "output_type": "stream",
     "text": [
      "[1, 2, 3, 4, 5, 6, 7, 8, 9, 10, 11, 12]\n"
     ]
    }
   ],
   "source": [
    "full_list = [[[1,2,3],[4,5,6]],[[7,8,9],[10,11,12]]]\n",
    "t = [element for inner_list in full_list for inner_inner_list in inner_list for element in inner_inner_list]\n",
    "\n",
    "print(t)"
   ]
  },
  {
   "cell_type": "markdown",
   "metadata": {},
   "source": [
    "Not only does it look very complicated, it is unreadable. But we'll try to understand what is happening: it is easier if we look at the longer version of this list comprehension shown below. We see that the `for` loops are evaluated from left to right, so starting from the outermost list containing the 2D list, we travel inward, into 1D lists and finally the individual elements to construct the flattened 1D list."
   ]
  },
  {
   "cell_type": "code",
   "execution_count": 8,
   "metadata": {},
   "outputs": [
    {
     "name": "stdout",
     "output_type": "stream",
     "text": [
      "[1, 2, 3, 4, 5, 6, 7, 8, 9, 10, 11, 12]\n"
     ]
    }
   ],
   "source": [
    "list_1d = []\n",
    "for inner_list in full_list:\n",
    "    for inner_inner_list in inner_list:\n",
    "        for element in inner_inner_list:\n",
    "            list_1d.append(element)\n",
    "\n",
    "print(list_1d)"
   ]
  },
  {
   "cell_type": "markdown",
   "metadata": {},
   "source": [
    "#### Dict Comprehensions"
   ]
  },
  {
   "cell_type": "markdown",
   "metadata": {},
   "source": [
    "We can appply a similar concept to dictionaries and write comprehensions to create and manipulate their contents. Let us look at some examples below. Suppose we have a bunch of sequences and its properties that we want to store, a dictionary is the most suitable data type for it. We have seen this when working with FASTA files, we stored headers as the key and sequence as the value."
   ]
  },
  {
   "cell_type": "code",
   "execution_count": 9,
   "metadata": {},
   "outputs": [
    {
     "name": "stdout",
     "output_type": "stream",
     "text": [
      "{'>seq1': 'GATCAGACGATAAGTCA\\n', '>seq2': 'TAGCANTACGACNTAA\\n', '>seq3': 'AGACTCATGACGATAGTAC\\n'}\n"
     ]
    }
   ],
   "source": [
    "#longer version\n",
    "headers = [\">seq1\", \">seq2\", \">seq3\"]\n",
    "sequences = [\"GATCAGACGATAAGTCA\\n\", \"TAGCANTACGACNTAA\\n\", \"AGACTCATGACGATAGTAC\\n\"]\n",
    "\n",
    "seq_dict = {}\n",
    "for i in range(0,3):\n",
    "    seq_dict[headers[i]] = sequences[i]\n",
    "\n",
    "print(seq_dict)"
   ]
  },
  {
   "cell_type": "markdown",
   "metadata": {},
   "source": [
    "Rewriting this using dict comprehension:"
   ]
  },
  {
   "cell_type": "code",
   "execution_count": 10,
   "metadata": {},
   "outputs": [
    {
     "name": "stdout",
     "output_type": "stream",
     "text": [
      "{'>seq1': 'GATCAGACGATAAGTCA\\n', '>seq2': 'TAGCANTACGACNTAA\\n', '>seq3': 'AGACTCATGACGATAGTAC\\n'}\n"
     ]
    }
   ],
   "source": [
    "#using dict comprehension\n",
    "seq_dict = {headers[i]:sequences[i] for i in range(len(sequences))}\n",
    "\n",
    "print(seq_dict)"
   ]
  },
  {
   "cell_type": "markdown",
   "metadata": {},
   "source": [
    "We can manipulate keys and/or values using comprehensions. To remove the '>' from header and the trailing newline characters from the sequence:"
   ]
  },
  {
   "cell_type": "code",
   "execution_count": 11,
   "metadata": {},
   "outputs": [
    {
     "name": "stdout",
     "output_type": "stream",
     "text": [
      "{'seq1': 'GATCAGACGATAAGTCA', 'seq2': 'TAGCANTACGACNTAA', 'seq3': 'AGACTCATGACGATAGTAC'}\n"
     ]
    }
   ],
   "source": [
    "seq_dict = {headers[i].lstrip('>'):sequences[i].strip() for i in range(0,3)}\n",
    "\n",
    "print(seq_dict)"
   ]
  },
  {
   "cell_type": "markdown",
   "metadata": {},
   "source": [
    "We can use `if` conditions or conditional expressions with dict comprehensions as well. If we wanted to exclude low quality reads from our dictionary:"
   ]
  },
  {
   "cell_type": "code",
   "execution_count": 12,
   "metadata": {},
   "outputs": [
    {
     "name": "stdout",
     "output_type": "stream",
     "text": [
      "{'>seq1': 'GATCAGACGATAAGTCA\\n', '>seq3': 'AGACTCATGACGATAGTAC\\n'}\n"
     ]
    }
   ],
   "source": [
    "#using if condition\n",
    "seq_dict = {headers[i]:sequences[i] for i in range(0,3) if 'N' not in sequences[i]}\n",
    "\n",
    "print(seq_dict)"
   ]
  },
  {
   "cell_type": "markdown",
   "metadata": {},
   "source": [
    "Suppose we have multiple seq_dicts from different samples and we want to store some properties of each sequence, a nested dictionary would be well-suited for the purpose. We can create nested dictionary as below:"
   ]
  },
  {
   "cell_type": "code",
   "execution_count": 13,
   "metadata": {},
   "outputs": [
    {
     "name": "stdout",
     "output_type": "stream",
     "text": [
      "sample1: {'seq1': {'len': 17, 'Ns': 0}, 'seq2': {'len': 16, 'Ns': 2}, 'seq3': {'len': 19, 'Ns': 0}}\n",
      "sample2: {'seq1': {'len': 17, 'Ns': 1}, 'seq2': {'len': 16, 'Ns': 3}}\n",
      "sample3: {'seq1': {'len': 14, 'Ns': 2}, 'seq2': {'len': 13, 'Ns': 0}, 'seq3': {'len': 14, 'Ns': 1}}\n"
     ]
    }
   ],
   "source": [
    "#using nested loops in dict comprehension\n",
    "samples = {\n",
    "            \"sample1\": {'seq1': 'GATCAGACGATAAGTCA', 'seq2': 'TAGCANTACGACNTAA', 'seq3': 'AGACTCATGACGATAGTAC'}, \n",
    "            \"sample2\": {'seq1': 'ATACCTGANCATGACTA', 'seq2': 'GATCACTNNNATCTAC'},\n",
    "            \"sample3\": {'seq1': 'CCCANTGNCGACTA', 'seq2': 'ATTAGCAGTAGCA', 'seq3': 'CGTANCTCATTCAA'}\n",
    "          }\n",
    "\n",
    "sample_dict = {id:{header:{\"len\": len(seq), \"Ns\": seq.count(\"N\")} for header, seq in sample.items()} for id, sample in samples.items()}\n",
    "\n",
    "for id, sample in sample_dict.items():\n",
    "    print(f\"{id}: {sample}\")"
   ]
  },
  {
   "cell_type": "markdown",
   "metadata": {},
   "source": [
    "Within the innermost curly braces, we define the properties of the sequences and the inner `for` loop creates a dictionary of sequence headers with their properties and finally, the outer `for` loop creates the dictionary with the sample name as the key and the nested dictionary as the value. However, as we can clearly see, it has become quite complex and unreadable at this point. It is better to rewrite it using explicit loops to improve readability:"
   ]
  },
  {
   "cell_type": "code",
   "execution_count": 14,
   "metadata": {},
   "outputs": [
    {
     "name": "stdout",
     "output_type": "stream",
     "text": [
      "sample1: {'seq1': {'len': 17, 'Ns': 0}, 'seq2': {'len': 16, 'Ns': 2}, 'seq3': {'len': 19, 'Ns': 0}}\n",
      "sample2: {'seq1': {'len': 17, 'Ns': 1}, 'seq2': {'len': 16, 'Ns': 3}}\n",
      "sample3: {'seq1': {'len': 14, 'Ns': 2}, 'seq2': {'len': 13, 'Ns': 0}, 'seq3': {'len': 14, 'Ns': 1}}\n"
     ]
    }
   ],
   "source": [
    "#longer version\n",
    "sample_dict = {}\n",
    "\n",
    "for id, sample in samples.items():\n",
    "    temp_dict = {} #to store inner dictionary\n",
    "    for header, seq in sample.items():\n",
    "        temp_dict[header] = {\"len\": len(seq), \"Ns\": seq.count(\"N\")}\n",
    "    sample_dict[id] = temp_dict\n",
    "\n",
    "for id, sample in sample_dict.items():\n",
    "    print(f\"{id}: {sample}\")"
   ]
  },
  {
   "cell_type": "markdown",
   "metadata": {},
   "source": [
    "#### Set Comprehensions\n",
    "\n",
    "Set comprehensions are very similar to list comprehensions except for the syntax. The basic difference between them is that sets do not allow duplicate values and are unordered, which also holds true with comprehension. In one of the previous assignments requiring finding unique HK domain encoding genes, you might have used conditionals or a set data type to remove duplicates. We'll recreate that example below:"
   ]
  },
  {
   "cell_type": "code",
   "execution_count": 15,
   "metadata": {},
   "outputs": [
    {
     "name": "stdout",
     "output_type": "stream",
     "text": [
      "{'uhpB', 'rstB', 'phoQ', 'phoR', 'torS', 'cusS', 'baeS', 'hprS', 'evgS', 'narQ', 'narX', 'envZ', 'cpxA'}\n"
     ]
    }
   ],
   "source": [
    "HKgenes = [\"torS\", \"uhpB\", \"narQ\", \"uhpB\", \"phoR\", \"cpxA\", \"envZ\", \"narX\", \"rstB\", \"phoQ\", \"narQ\", \"hprS\", \"cusS\", \"evgS\", \"uhpB\", \"baeS\", \"envZ\"]\n",
    "\n",
    "unique_HKgenes = set() #initialize set\n",
    "\n",
    "#longer version\n",
    "for gene in HKgenes:\n",
    "    unique_HKgenes.add(gene)\n",
    "\n",
    "print(unique_HKgenes)"
   ]
  },
  {
   "cell_type": "code",
   "execution_count": 16,
   "metadata": {},
   "outputs": [
    {
     "name": "stdout",
     "output_type": "stream",
     "text": [
      "{'uhpB', 'rstB', 'phoQ', 'phoR', 'torS', 'cusS', 'baeS', 'hprS', 'evgS', 'narQ', 'narX', 'envZ', 'cpxA'}\n"
     ]
    }
   ],
   "source": [
    "#using set comprehension\n",
    "unique_HKgenes = {gene for gene in HKgenes}\n",
    "print(unique_HKgenes)"
   ]
  },
  {
   "cell_type": "markdown",
   "metadata": {},
   "source": [
    "Note that we initialized the set using `set()`, but when printed, sets are enclosed with curly braces similar to dictionaries. The idea and syntax for using `if` conditions, conditional statements, and nested loops within set comprehension remain the same."
   ]
  },
  {
   "cell_type": "markdown",
   "metadata": {},
   "source": [
    "#### Generator comprehensions\n",
    "\n",
    "When working with lists, we load the entire list into the memory which works as long as it can fit in the memory, but if not, your program starts to hang or become unresponsive. Generator comprehension is helpful when working with huge datasets that cannot fit in the memory. Let's look at a simple example below of finding the sum of squares of the first million numbers:"
   ]
  },
  {
   "cell_type": "code",
   "execution_count": 17,
   "metadata": {},
   "outputs": [
    {
     "name": "stdout",
     "output_type": "stream",
     "text": [
      "333332833333500000\n"
     ]
    }
   ],
   "source": [
    "#longer version\n",
    "sq_sum = 0\n",
    "for i in range(1_000_000):\n",
    "    sq_sum += i ** 2\n",
    "\n",
    "print(sq_sum)"
   ]
  },
  {
   "cell_type": "code",
   "execution_count": 18,
   "metadata": {},
   "outputs": [
    {
     "data": {
      "text/plain": [
       "333332833333500000"
      ]
     },
     "execution_count": 18,
     "metadata": {},
     "output_type": "execute_result"
    }
   ],
   "source": [
    "#using generator comprehension\n",
    "sum(i ** 2 for i in range(1_000_000))"
   ]
  },
  {
   "cell_type": "markdown",
   "metadata": {},
   "source": [
    "The first thing to note is that generator comprehension is written inside round brackets. The advantage of this over a list comprehension is that generators don’t create a single, large data structure in memory, but instead return an iterable(like we have seen with generator functions). We can fetch the values one by one from this iterable until there are no more elements to consume, which means we are storing a single value at a time. Calculating values only when explicitly requested is sometimes referred to as **lazy evaluation**. In the above example, when the generator yields a value, it is added to the current sum and discarded. The same cycle repeats when the generator yields the next value. Note that we don't require an explicit `for` loop here to iterate over the generator values as `sum()` is also an iterable function that iterates over the numbers given to it for summing."
   ]
  },
  {
   "cell_type": "markdown",
   "metadata": {},
   "source": [
    "### Performance comparison\n",
    "\n",
    "After going through the examples, hopefully, you are convinced about the elegance and usefulness of comprehensions and plan to use them in your future scripts if you are not already doing so. To give yet another reason to use comprehensions, we will compare the runtimes of the comprehension versus its equivalent `for` loop to see which is faster.\n",
    "\n",
    "We'll time the operation of iterating over a million numbers:"
   ]
  },
  {
   "cell_type": "code",
   "execution_count": 19,
   "metadata": {},
   "outputs": [
    {
     "name": "stdout",
     "output_type": "stream",
     "text": [
      "48.44993730499846\n",
      "38.78487933100405\n"
     ]
    }
   ],
   "source": [
    "import timeit\n",
    "\n",
    "def iterate_using_for():\n",
    "    for_list = []\n",
    "    for i in range(1_000_000):\n",
    "        for_list.append(i)\n",
    "    return for_list\n",
    "\n",
    "def iterate_using_comp():\n",
    "    comp_list = [i for i in range(1_000_000)]\n",
    "    return comp_list\n",
    "    \n",
    "print(timeit.timeit(iterate_using_for, number = 1000))\n",
    "print(timeit.timeit(iterate_using_comp, number = 1000))"
   ]
  },
  {
   "cell_type": "markdown",
   "metadata": {},
   "source": [
    "It is clear that comprehensions are faster compared to their `for` loop equivalents. Let us quickly also understand the `timeit()` function used to measure time. Generally, the `time` module in the standard Python library is used to time the operations by taking the difference between the end and the start time as we saw during one of the demos on decorators. However, the way it is designed to measure time, it can be affected by other OS-related operations thus giving incorrect results. `timeit` overcomes this by running the operation a certain _number_ of times(default is 1 million, but we have used 1000 in the above example) to return the best minimum time and hence is more accurate. You can refer to [this Stackoverflow thread](https://stackoverflow.com/questions/17579357/time-time-vs-timeit-timeit) to read more about the reasons why `timeit` is considered more accurate and [this tutorial](https://blog.esciencecenter.nl/pythons-timeit-find-the-fastest-code-in-no-time-23d6092b5c72) for more examples on using `timeit` in different scenarios. In the above code, we are passing a callable function as the operation to the `timeit()` function which is executed 1000 times before returning the runtime."
   ]
  }
 ],
 "metadata": {
  "kernelspec": {
   "display_name": "Python 3 (ipykernel)",
   "language": "python",
   "name": "python3"
  },
  "language_info": {
   "codemirror_mode": {
    "name": "ipython",
    "version": 3
   },
   "file_extension": ".py",
   "mimetype": "text/x-python",
   "name": "python",
   "nbconvert_exporter": "python",
   "pygments_lexer": "ipython3",
   "version": "3.12.7"
  }
 },
 "nbformat": 4,
 "nbformat_minor": 4
}
