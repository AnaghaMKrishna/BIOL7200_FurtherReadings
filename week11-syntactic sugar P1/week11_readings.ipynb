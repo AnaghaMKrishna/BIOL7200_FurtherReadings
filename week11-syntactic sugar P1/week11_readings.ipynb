{
 "cells": [
  {
   "cell_type": "markdown",
   "metadata": {},
   "source": [
    "# Week 11 Further Readings"
   ]
  },
  {
   "cell_type": "markdown",
   "metadata": {},
   "source": [
    "This week we'll look at some Python constructs that makes it readable, likable and popular. These are often called **_syntactic sugar_** because it makes the code less verbose and more concise. [Formally](https://en.wikipedia.org/wiki/Syntactic_sugar), \n",
    "> Syntactic sugar is syntax within a programming language that is designed to make things easier to read or to express. It makes the language \"sweeter\" for human use: things can be expressed more clearly, more concisely, or in an alternative style that some may prefer.\n",
    "\n",
    "That means there are equivalent constructs that achieve the same thing but are often not used/preferred because there is a more elegant or succinct way of writing the same code. In part one of a two series readings, let us explore a few such constructs. You may be familiar with and already using these in your assignments and other coding exercises without realizing there is a more verbose way of writing them. The goal of discussing these here is two-fold:\n",
    "1. Introduce you to a few (hopefully)new syntactic sugar constructs that you can adopt.\n",
    "2. You are aware of the shorthand and their equivalent longhand notations and use them appropriately to make the code more readable. It is important to note that less verbose code is not always very readable.\n",
    "\n",
    "Let us start with some easy ones."
   ]
  },
  {
   "cell_type": "markdown",
   "metadata": {},
   "source": [
    "### Unpacking iterables"
   ]
  },
  {
   "cell_type": "markdown",
   "metadata": {},
   "source": [
    "Unpacking an iterable means assigning its values to a series of variables one by one. This is something we have used quite a lot in assignments when working with BLAST results when reading in only the fields of interest and not worrying about others. "
   ]
  },
  {
   "cell_type": "code",
   "execution_count": 1,
   "metadata": {},
   "outputs": [
    {
     "name": "stdout",
     "output_type": "stream",
     "text": [
      "Subject Sequence ID: NZ_CP028828.1\n",
      "% of identical positions: 42.408\n",
      "Length: 191\n",
      "Start of subject sequence alignment: 621711\n",
      "End of subject sequence alignment: 622277\n",
      "Query sequence length: 189\n"
     ]
    }
   ],
   "source": [
    "blast_hit = [\"sp|P09835|UHPB_ECOLI|311-499\", \"NZ_CP028828.1\", 42.408, 191, 105, 3, 1, 188, 621711, 622277, 2.66e-23, 93.6, 189]\n",
    "\n",
    "#longer version\n",
    "sseq_id = blast_hit[1]\n",
    "pident = blast_hit[2]\n",
    "leng = blast_hit[3]\n",
    "sstart = blast_hit[8]\n",
    "send = blast_hit[9]\n",
    "qlen = blast_hit[12]\n",
    "\n",
    "print(f'''Subject Sequence ID: {sseq_id}\n",
    "% of identical positions: {pident}\n",
    "Length: {leng}\n",
    "Start of subject sequence alignment: {sstart}\n",
    "End of subject sequence alignment: {send}\n",
    "Query sequence length: {qlen}'''\n",
    ")"
   ]
  },
  {
   "cell_type": "code",
   "execution_count": 2,
   "metadata": {},
   "outputs": [
    {
     "name": "stdout",
     "output_type": "stream",
     "text": [
      "Subject Sequence ID: NZ_CP028828.1\n",
      "% of identical positions: 42.408\n",
      "Length: 191\n",
      "Start of subject sequence alignment: 621711\n",
      "End of subject sequence alignment: 622277\n",
      "Query sequence length: 189\n"
     ]
    }
   ],
   "source": [
    "#using variable unpacking\n",
    "_, sseq_id, pident, leng, _, _, _, _, sstart, send, _, _, qlen = blast_hit\n",
    "\n",
    "print(f'''Subject Sequence ID: {sseq_id}\n",
    "% of identical positions: {pident}\n",
    "Length: {leng}\n",
    "Start of subject sequence alignment: {sstart}\n",
    "End of subject sequence alignment: {send}\n",
    "Query sequence length: {qlen}'''\n",
    ")"
   ]
  },
  {
   "cell_type": "markdown",
   "metadata": {},
   "source": [
    "You may remember from class that we can use a `*` in front of a variable to consume multiple values, for example `*_` consumes 4 values between \"leng\" and \"sstart\". However, note that `*_` can only be used once in an assignment statement as Python figures out how many values `*` should consume based on the fixed number of other values being unpacked."
   ]
  },
  {
   "cell_type": "code",
   "execution_count": 3,
   "metadata": {},
   "outputs": [
    {
     "name": "stdout",
     "output_type": "stream",
     "text": [
      "Subject Sequence ID: NZ_CP028828.1\n",
      "% of identical positions: 42.408\n",
      "Length: 191\n",
      "Start of subject sequence alignment: 621711\n",
      "End of subject sequence alignment: 622277\n",
      "Query sequence length: 189\n"
     ]
    }
   ],
   "source": [
    "_, sseq_id, pident, leng, *_, sstart, send, _, _, qlen = blast_hit\n",
    "\n",
    "print(f'''Subject Sequence ID: {sseq_id}\n",
    "% of identical positions: {pident}\n",
    "Length: {leng}\n",
    "Start of subject sequence alignment: {sstart}\n",
    "End of subject sequence alignment: {send}\n",
    "Query sequence length: {qlen}'''\n",
    ")"
   ]
  },
  {
   "cell_type": "markdown",
   "metadata": {},
   "source": [
    "Note that Python will complain if there are not enough or more variables given while unpacking. Even though the demo illustrates unpacking a list, we can extend this concept to any iterable. When you iterate over a dictionary, it unpacks the keys by default. \n",
    "\n",
    "An interesting consequence of this variable unpacking is swapping two numbers without a third variable which you might have come across: "
   ]
  },
  {
   "cell_type": "code",
   "execution_count": 4,
   "metadata": {},
   "outputs": [
    {
     "name": "stdout",
     "output_type": "stream",
     "text": [
      "Before swapping a: 38, b: 94\n",
      "After swapping a: 94, b: 38\n"
     ]
    }
   ],
   "source": [
    "a = 38\n",
    "b = 94\n",
    "print(f\"Before swapping a: {a}, b: {b}\")\n",
    "\n",
    "a, b = b, a\n",
    "print(f\"After swapping a: {a}, b: {b}\")"
   ]
  },
  {
   "cell_type": "markdown",
   "metadata": {},
   "source": [
    "What happens behind the scenes when you write a statement like `a, b = b, a` is that variables with commas on the right side of the statement are packed into a tuple and unpacked by placing the same number of comma-separated target variables on the left side. We commonly see tuples being written as `(item1, item2, ...)` but tuples can also be constructed by separating tuple items using commas without explict round brackets around them. These are called \"implicit tuples\".\n",
    "\n",
    "### Chained conditions"
   ]
  },
  {
   "cell_type": "markdown",
   "metadata": {},
   "source": [
    "Like we chained multiple methods where the requirement was that one method's return type is the same as the following method's input type, we can also chain operators. A good example of this is checking if a number falls within a range:"
   ]
  },
  {
   "cell_type": "code",
   "execution_count": 5,
   "metadata": {},
   "outputs": [
    {
     "name": "stdout",
     "output_type": "stream",
     "text": [
      "a is between 10 and 20\n"
     ]
    }
   ],
   "source": [
    "#longer version\n",
    "a = 15\n",
    "if a > 10 and a < 20:\n",
    "    print(\"a is between 10 and 20\")\n",
    "else:\n",
    "    print(\"a lies outside the range 10 and 20\")"
   ]
  },
  {
   "cell_type": "markdown",
   "metadata": {},
   "source": [
    "Instead, we can write this by chaining operators as below:"
   ]
  },
  {
   "cell_type": "code",
   "execution_count": 6,
   "metadata": {},
   "outputs": [
    {
     "name": "stdout",
     "output_type": "stream",
     "text": [
      "a is between 10 and 20\n"
     ]
    }
   ],
   "source": [
    "#using operator chaining\n",
    "if 10 < a < 20:\n",
    "    print(\"a is between 10 and 20\")\n",
    "else:\n",
    "    print(\"a lies outside the range 10 and 20\")"
   ]
  },
  {
   "cell_type": "markdown",
   "metadata": {},
   "source": [
    "If you remember from assignments 4 and 5 where we were comparing if the hits we obtained from BLAST results for the presence of Histidine Kinase domains lie within the range of the bed feature, we used a condition:"
   ]
  },
  {
   "cell_type": "code",
   "execution_count": 7,
   "metadata": {},
   "outputs": [
    {
     "name": "stdout",
     "output_type": "stream",
     "text": [
      "Hit is within gene boundary\n"
     ]
    }
   ],
   "source": [
    "blast_sstart = 1745\n",
    "blast_send = 1374\n",
    "bed_start = 1210\n",
    "bed_end = 1868\n",
    "\n",
    "#longer version\n",
    "if ((blast_sstart > bed_start and blast_send > bed_start) and (blast_sstart <= bed_end and blast_send <= bed_end)):\n",
    "    print(\"Hit is within gene boundary\")\n",
    "else:\n",
    "    print(\"Hit does not lie within the gene boundary\")"
   ]
  },
  {
   "cell_type": "markdown",
   "metadata": {},
   "source": [
    "We can rewrite the same conditions using operator chaining as below which is more compact: "
   ]
  },
  {
   "cell_type": "code",
   "execution_count": 8,
   "metadata": {},
   "outputs": [
    {
     "name": "stdout",
     "output_type": "stream",
     "text": [
      "Hit is within gene boundary\n"
     ]
    }
   ],
   "source": [
    "if (bed_start < blast_sstart <= bed_end and bed_start < blast_send <= bed_end):\n",
    "    print(\"Hit is within gene boundary\")\n",
    "else:\n",
    "    print(\"Hit does not lie within the gene boundary\")"
   ]
  },
  {
   "cell_type": "markdown",
   "metadata": {},
   "source": [
    "You'll find more examples and different ways of chaining operators [here](https://realpython.com/python-boolean/#chaining-comparison-operators)."
   ]
  },
  {
   "cell_type": "markdown",
   "metadata": {},
   "source": [
    "### Conditional expressions"
   ]
  },
  {
   "cell_type": "markdown",
   "metadata": {},
   "source": [
    "If you have used other programming languages like C, you might be familiar with a syntax like `condition ? task_if_true : task_if_false` which is called a ternary operator. This is equivalent but a shorthand notation for a simple `if`-`else` statement."
   ]
  },
  {
   "cell_type": "code",
   "execution_count": 9,
   "metadata": {},
   "outputs": [
    {
     "name": "stdout",
     "output_type": "stream",
     "text": [
      "It's a consonant\n"
     ]
    }
   ],
   "source": [
    "#longer version\n",
    "ch  = 'b'\n",
    "if ch in \"aeiou\":\n",
    "    print(\"It's a vowel\")\n",
    "else:\n",
    "    print(\"It's a consonant\")"
   ]
  },
  {
   "cell_type": "markdown",
   "metadata": {},
   "source": [
    "We can write a one-liner, English-like equivalent of the above `if`-`else` block or a syntax equivalent to the ternary operator in Python called \"conditional expression\" as below:\n",
    "\n",
    "`task_if_true if condition else task_if_false`"
   ]
  },
  {
   "cell_type": "code",
   "execution_count": 10,
   "metadata": {},
   "outputs": [
    {
     "name": "stdout",
     "output_type": "stream",
     "text": [
      "It's a consonant\n"
     ]
    }
   ],
   "source": [
    "#using conditional expression\n",
    "print(\"It's a vowel\") if ch in \"aeiou\" else print(\"It's a consonant\")"
   ]
  },
  {
   "cell_type": "markdown",
   "metadata": {},
   "source": [
    "Further, we can use this syntax for variable assignment:"
   ]
  },
  {
   "cell_type": "code",
   "execution_count": 11,
   "metadata": {},
   "outputs": [
    {
     "name": "stdout",
     "output_type": "stream",
     "text": [
      "weekend\n"
     ]
    }
   ],
   "source": [
    "today = \"Sunday\"\n",
    "day = \"weekday\" if today in [\"Monday\", \"Tuesday\", \"Wednesday\", \"Thursday\", \"Friday\"] else \"weekend\"\n",
    "print(day)"
   ]
  },
  {
   "cell_type": "markdown",
   "metadata": {},
   "source": [
    "### Assignment expressions"
   ]
  },
  {
   "cell_type": "markdown",
   "metadata": {},
   "source": [
    "This syntax is not something we see very often and it was introduced only in Python version 3.8. When we use a statement like `a = 10`, we assign the value 10 to a variable 'a' and this is called an assignment statement. However, with assignment expressions, we can assign a value to a variable as well as return the value. Below is a quick demo to understand what that means:"
   ]
  },
  {
   "cell_type": "code",
   "execution_count": 12,
   "metadata": {},
   "outputs": [
    {
     "data": {
      "text/plain": [
       "15"
      ]
     },
     "execution_count": 12,
     "metadata": {},
     "output_type": "execute_result"
    }
   ],
   "source": [
    "a = 10\n",
    "\n",
    "(b := 15)"
   ]
  },
  {
   "cell_type": "code",
   "execution_count": 13,
   "metadata": {},
   "outputs": [
    {
     "name": "stdout",
     "output_type": "stream",
     "text": [
      "a: 10, b: 15\n"
     ]
    }
   ],
   "source": [
    "#to show a and b are also assigned with the values\n",
    "print(f\"a: {a}, b: {b}\")"
   ]
  },
  {
   "cell_type": "markdown",
   "metadata": {},
   "source": [
    "Two things to note here:\n",
    "* when we used an assignment expression denoted by `:=`, it assigns the value and also returns it. Fun fact, the assignment expression is also called a \"walrus operator\" because `:=` looked like the face of a walrus lying on its side to some people!\n",
    "* usage of the walrus operator instead of the assignment operator is illegal(as shown below) so we had to add parentheses around it to make it a valid Python code. The rationale behind this as stated in the [PEP 572](https://peps.python.org/pep-0572/#exceptional-cases) where the walrus operator was approved and implemented -\n",
    "> This rule is included to simplify the choice for the user between an assignment statement and an assignment expression – there is no syntactic position where both are valid.\r\n"
   ]
  },
  {
   "cell_type": "code",
   "execution_count": 14,
   "metadata": {},
   "outputs": [
    {
     "ename": "SyntaxError",
     "evalue": "invalid syntax (1674197358.py, line 1)",
     "output_type": "error",
     "traceback": [
      "\u001b[0;36m  Cell \u001b[0;32mIn[14], line 1\u001b[0;36m\u001b[0m\n\u001b[0;31m    c := 20\u001b[0m\n\u001b[0m      ^\u001b[0m\n\u001b[0;31mSyntaxError\u001b[0m\u001b[0;31m:\u001b[0m invalid syntax\n"
     ]
    }
   ],
   "source": [
    "c := 20"
   ]
  },
  {
   "cell_type": "markdown",
   "metadata": {},
   "source": [
    "Why do we care about the assignment expressions? The basic idea behind the assignment operator is to save intermediate results often from expensive calculations for later use. This could be evaluating a complex mathematical equation or pattern matching using `re`(a standard library for handling regular expressions). Let us look at examples showing both:"
   ]
  },
  {
   "cell_type": "markdown",
   "metadata": {},
   "source": [
    "Let us suppose we are trying to evaluate an expression like \n",
    "\n",
    "$$\n",
    "\\sum_{n=0}^{\\infty} \\frac{1}{2n + 1}\n",
    "$$\n",
    "\n",
    "\n",
    "And we stop the summation if the value is less than 0.000000001. Since it is hard to say for what value of 'n', the equation will result in a value less than 0.000000001 beforehand, we can write a loop like this:"
   ]
  },
  {
   "cell_type": "code",
   "execution_count": 15,
   "metadata": {},
   "outputs": [
    {
     "name": "stdout",
     "output_type": "stream",
     "text": [
      "n=15811\n",
      "sum=1.233684738359571\n"
     ]
    }
   ],
   "source": [
    "sum = 0\n",
    "for n in range(0, 20_000): #we can use _ to separate numbers instead of commas\n",
    "    if (1 / ( 2 * n + 1)) ** 2 >= 0.000_000_001: \n",
    "        sum += (1 / (2 * n + 1)) ** 2\n",
    "    else:\n",
    "        break\n",
    "print(f\"n={n}\")\n",
    "print(f\"sum={sum}\")"
   ]
  },
  {
   "cell_type": "markdown",
   "metadata": {},
   "source": [
    "If we observe carefully, we are evaluating the expression `(1 / ( 2 * n + 1)) ** 2` two times, once in the `if` statement and second in calculating the sum, leading to a wastage of computational time. To overcome this, we can create a variable to store the value of this expression and use that variable instead."
   ]
  },
  {
   "cell_type": "code",
   "execution_count": 16,
   "metadata": {},
   "outputs": [
    {
     "name": "stdout",
     "output_type": "stream",
     "text": [
      "sum=1.233684738359571\n"
     ]
    }
   ],
   "source": [
    "#longer version\n",
    "sum = 0\n",
    "for n in range(0, 20_000): #we can use _ to separate numbers instead of commas\n",
    "    expr = (1 / ( 2 * n + 1)) ** 2\n",
    "    if expr >= 0.000_000_001: \n",
    "        sum += expr\n",
    "    else:\n",
    "        break\n",
    "print(f\"sum={sum}\")"
   ]
  },
  {
   "cell_type": "markdown",
   "metadata": {},
   "source": [
    "By taking advantage of walrus operator, we can rewrite the above code as:"
   ]
  },
  {
   "cell_type": "code",
   "execution_count": 17,
   "metadata": {},
   "outputs": [
    {
     "name": "stdout",
     "output_type": "stream",
     "text": [
      "sum=1.233684738359571\n"
     ]
    }
   ],
   "source": [
    "#using walrus operator\n",
    "sum = 0\n",
    "for n in range(0, 20_000): #we can use _ to separate numbers instead of commas\n",
    "    if (expr := (1 / ( 2 * n + 1)) ** 2) >= 0.000_000_001: \n",
    "        sum += expr\n",
    "    else:\n",
    "        break\n",
    "print(f\"sum={sum}\")"
   ]
  },
  {
   "cell_type": "markdown",
   "metadata": {},
   "source": [
    "Notice how we combined the assignment statement and the conditional into one statement using `:=`. To be more adventurous, we can also use conditional expressions to make the code shorter, but the readability starts to suffer. As mentioned at the beginning of the document, concise code could sometimes compromise the readability of the code, so it is necessary to balance them both."
   ]
  },
  {
   "cell_type": "code",
   "execution_count": 18,
   "metadata": {},
   "outputs": [
    {
     "name": "stdout",
     "output_type": "stream",
     "text": [
      "sum=1.233684738359571\n"
     ]
    }
   ],
   "source": [
    "sum = 0\n",
    "for n in range(0, 20_000): #we can use _ to separate numbers instead of commas\n",
    "    sum = sum + expr if (expr := (1 / ( 2 * n + 1)) ** 2) >= 0.000_000_001 else sum\n",
    "print(f\"sum={sum}\")"
   ]
  },
  {
   "cell_type": "markdown",
   "metadata": {},
   "source": [
    "Now for the second example using `re` package. If you remember from assignment 3, we extracted gene names from the header lines of HK_domain.faa. You can download this file from the discussion post or copy the existing file to your current working directory to follow along. We'll do the same exercise here in Python:"
   ]
  },
  {
   "cell_type": "code",
   "execution_count": 19,
   "metadata": {},
   "outputs": [],
   "source": [
    "import re\n",
    "\n",
    "headers = []\n",
    "with open(\"HK_domain.faa\") as fin:\n",
    "    for line in fin:\n",
    "        if line.startswith(\">\"):\n",
    "            headers.append(line.strip(\"\\n\"))\n",
    "        else:\n",
    "            continue    "
   ]
  },
  {
   "cell_type": "code",
   "execution_count": 20,
   "metadata": {},
   "outputs": [
    {
     "name": "stdout",
     "output_type": "stream",
     "text": [
      "['baeS', 'glrK', 'hprS', 'basS', 'zraS', 'phoQ', 'dpiB', 'cusS', 'atoS', 'glnL', 'phoR', 'dcuS', 'evgS', 'narX', 'kdpD', 'rcsC', 'cpxA', 'torS', 'barA', 'envZ', 'cheA', 'arcB', 'qseC', 'rstB', 'creC', 'narQ']\n"
     ]
    }
   ],
   "source": [
    "#longer version\n",
    "gene_names = []\n",
    "for header in headers:\n",
    "    match = re.search(\"GN=([a-z]{3}[A-Z])\", header)\n",
    "    if match:\n",
    "        gene_names.append(match.group(1))\n",
    "\n",
    "print(gene_names)"
   ]
  },
  {
   "cell_type": "markdown",
   "metadata": {},
   "source": [
    "Let us try to understand what the above code is doing: \n",
    "* `re.search()` - this function takes in a regex pattern and a string to search the pattern in. It returns a Match object if there is a match, else None. We need that if conditional to filter out the None values.\n",
    "* `match.group()` - returns one or more subgroups of the match (you may remember that this is similar to the capture groups where we put a part of the pattern within the round brackets and later use it for back referencing using `\\1`, `\\2` etc). If we pass 0 as the argument, it returns all the subgroups, 1 returns the first subgroup and so on. We can also pass multiple arguments and the function returns those matches as tuples.\n",
    "\n",
    "This is a simple example of pattern matching, but as the complexity of the patterns grows and we need to make repetitive matches, it can start to become more computationally expensive.\n",
    "\n",
    "`re` package has many more useful tools for working with regexes and pattern matching. You can find them all in [the document](https://docs.python.org/3/library/re.html#).\n",
    "\n",
    "Now back to using walrus operator:"
   ]
  },
  {
   "cell_type": "code",
   "execution_count": 21,
   "metadata": {},
   "outputs": [
    {
     "name": "stdout",
     "output_type": "stream",
     "text": [
      "['baeS', 'glrK', 'hprS', 'basS', 'zraS', 'phoQ', 'dpiB', 'cusS', 'atoS', 'glnL', 'phoR', 'dcuS', 'evgS', 'narX', 'kdpD', 'rcsC', 'cpxA', 'torS', 'barA', 'envZ', 'cheA', 'arcB', 'qseC', 'rstB', 'creC', 'narQ']\n"
     ]
    }
   ],
   "source": [
    "#using walrus operator\n",
    "gene_names = []\n",
    "for header in headers:\n",
    "    if (match := re.search(\"GN=([a-z]{3}[A-Z])\", header)):\n",
    "        gene_names.append(match.group(1))\n",
    "\n",
    "print(gene_names)"
   ]
  },
  {
   "cell_type": "markdown",
   "metadata": {},
   "source": [
    "An assignment expression can be used in almost any kind of context where expressions are permitted in Python with the most common case being `if` statements but it can be used with a `while` condition as well. However, there are places where you should not use it including the one we saw earlier, as a replacement for assignment operator `=`. More such scenarios are provided in the [PEP 572](https://peps.python.org/pep-0572/#exceptional-cases).\n",
    "\n",
    "To read more about the walrus operator and its use cases with examples, check out [this blog post](https://realpython.com/python-walrus-operator/)."
   ]
  },
  {
   "cell_type": "markdown",
   "metadata": {},
   "source": [
    "Hopefully you enjoyed learning some pieces of syntactic sugar supported by Python! We'll explore some more next week."
   ]
  }
 ],
 "metadata": {
  "kernelspec": {
   "display_name": "Python 3 (ipykernel)",
   "language": "python",
   "name": "python3"
  },
  "language_info": {
   "codemirror_mode": {
    "name": "ipython",
    "version": 3
   },
   "file_extension": ".py",
   "mimetype": "text/x-python",
   "name": "python",
   "nbconvert_exporter": "python",
   "pygments_lexer": "ipython3",
   "version": "3.12.0"
  }
 },
 "nbformat": 4,
 "nbformat_minor": 4
}
