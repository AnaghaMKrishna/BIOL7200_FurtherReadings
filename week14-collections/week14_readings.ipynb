{
 "cells": [
  {
   "cell_type": "markdown",
   "metadata": {},
   "source": [
    "# Week 14 Further Readings\n",
    "\n",
    "This week, we'll explore some advanced data types supported by [`collections`, a module in the standard library](https://docs.python.org/3/library/collections.html#). Throughout the course, we have encountered multiple container data types like lists, dictionaries, sets, tuples, etc., which store other data type objects within. `collections` include advanced container data types that provide specialized behavior acting as alternatives for general purpose built-in container data types. All the datatypes we'll see below are subclasses of the data type classes we have already worked with and hence support all the methods that the parent class provides. However, they provide additional methods or override methods from the parent class to support a different behavior making data storage and retrieval more convenient than their parent class.\n",
    "\n",
    "\n",
    "### `deque` or double-ended queue\n",
    "\n",
    "_Queue_ is a common data structure that mimics any queue, like a line of people waiting at a billing counter. The basic principle of a queue is first-in first-out(FIFO), meaning the person who enters the queue first also leaves the queue first. As a side note, this is in contrast to another common principle, last-in first-out(LIFO) which is the basis for another data structure called _Stack_. This is similar to drawing from a deck of cards, the topmost card is the first to be picked while the bottom card is drawn at the end.\n",
    "\n",
    "While FIFO is the most common principle associated with a queue, meaning we append to the right end of the queue and remove elements from the left end of the queue, there might be situations where we want the flexibility to append and remove elements from both ends of the queue equally efficiently. A data structure providing this ability is termed as a double-ended queue which can be thought of as a generalization of both queues and stacks. A real-world scenario where double-ended queue is used is for maintaining browser history. The browser needs to append the most recent page you visited at the front in case you want to revisit it. For removing elements, there can be two sub-scenarios: you revisited the page and it needs to be removed from the front of the queue or the browser history has grown so large that some history needs to be removed from the end of the queue.\n",
    "\n",
    "`deque` (pronounced as deck - **d**ouble **e**nded **q**ueue) provides this exact functionality of adding and removing elements from either end of the queue. Let us look at some examples:"
   ]
  },
  {
   "cell_type": "code",
   "execution_count": 1,
   "metadata": {
    "vscode": {
     "languageId": "plaintext"
    }
   },
   "outputs": [],
   "source": [
    "from collections import deque\n",
    "\n",
    "dq = deque([1, 2, 3]) #initialize a deque"
   ]
  },
  {
   "cell_type": "code",
   "execution_count": 2,
   "metadata": {},
   "outputs": [
    {
     "name": "stdout",
     "output_type": "stream",
     "text": [
      "deque([1, 2, 3, 4])\n"
     ]
    }
   ],
   "source": [
    "dq.append(4) #insert to the right end - similar to the list.append() function\n",
    "print(dq)"
   ]
  },
  {
   "cell_type": "code",
   "execution_count": 3,
   "metadata": {},
   "outputs": [
    {
     "name": "stdout",
     "output_type": "stream",
     "text": [
      "deque([0, 1, 2, 3, 4])\n"
     ]
    }
   ],
   "source": [
    "dq.appendleft(0) #insert to the left end\n",
    "print(dq)"
   ]
  },
  {
   "cell_type": "code",
   "execution_count": 4,
   "metadata": {},
   "outputs": [
    {
     "name": "stdout",
     "output_type": "stream",
     "text": [
      "deque([0, 1, 2, 3])\n"
     ]
    }
   ],
   "source": [
    "dq.pop() #remove from right end\n",
    "print(dq)"
   ]
  },
  {
   "cell_type": "code",
   "execution_count": 5,
   "metadata": {},
   "outputs": [
    {
     "name": "stdout",
     "output_type": "stream",
     "text": [
      "deque([1, 2, 3])\n"
     ]
    }
   ],
   "source": [
    "dq.popleft() #remove from left end\n",
    "print(dq)"
   ]
  },
  {
   "cell_type": "markdown",
   "metadata": {},
   "source": [
    "An optional argument we can pass while initializing the queue is `maxlen` which maintains the `deque` length constant by automatically removing elements from one end if elements are added to the other."
   ]
  },
  {
   "cell_type": "code",
   "execution_count": 6,
   "metadata": {},
   "outputs": [
    {
     "name": "stdout",
     "output_type": "stream",
     "text": [
      "deque([1, 2, 3, 4], maxlen=4)\n"
     ]
    }
   ],
   "source": [
    "dq_len = deque([1, 2, 3, 4], maxlen = 4)\n",
    "print(dq_len)"
   ]
  },
  {
   "cell_type": "code",
   "execution_count": 7,
   "metadata": {},
   "outputs": [
    {
     "name": "stdout",
     "output_type": "stream",
     "text": [
      "deque([0, 1, 2, 3], maxlen=4)\n"
     ]
    }
   ],
   "source": [
    "dq_len.appendleft(0)\n",
    "print(dq_len)"
   ]
  },
  {
   "cell_type": "code",
   "execution_count": 8,
   "metadata": {},
   "outputs": [
    {
     "name": "stdout",
     "output_type": "stream",
     "text": [
      "deque([-1, 0, 1, 2], maxlen=4)\n"
     ]
    }
   ],
   "source": [
    "dq_len.appendleft(-1)\n",
    "print(dq_len)"
   ]
  },
  {
   "cell_type": "markdown",
   "metadata": {},
   "source": [
    "The elements 4 and 3 were removed from the right end when 0 and -1 were added to the left end, thus maintaining a constant length of 4. You can imagine this feature being used to maintain the size of your browser history. \n",
    "\n",
    "Further, we can use this data structure to create k-mers from a given sequence. We briefly saw k-mers being used in aligners like `minimap2` in the previous week's assignment. We'll implement a code snippet below to print all the 3-mers using deque:"
   ]
  },
  {
   "cell_type": "code",
   "execution_count": 9,
   "metadata": {},
   "outputs": [
    {
     "name": "stdout",
     "output_type": "stream",
     "text": [
      "AGTCTAGCTCTAGC\n",
      "AGT\n",
      " GTC\n",
      "  TCT\n",
      "   CTA\n",
      "    TAG\n",
      "     AGC\n",
      "      GCT\n",
      "       CTC\n",
      "        TCT\n",
      "         CTA\n",
      "          TAG\n",
      "           AGC\n"
     ]
    }
   ],
   "source": [
    "seq = \"AGTCTAGCTCTAGC\"\n",
    "print(seq)\n",
    "k = 3\n",
    "\n",
    "dq_seq = deque(\"\", maxlen = k) #initialize with first 3 bases\n",
    "\n",
    "for i in range(0, len(seq)):\n",
    "    dq_seq.append(seq[i]) #keep only 3 bases at any point\n",
    "    if len(dq_seq) != k: #fill up the entire deque to get 'k' length k-mer\n",
    "        continue\n",
    "    print(\" \"* (i-(k-1)) + \"\".join(dq_seq))"
   ]
  },
  {
   "cell_type": "markdown",
   "metadata": {},
   "source": [
    "Further, `deque` is an iterable and mutable data type that supports more methods that work with lists like `extend()`, `insert()` apart from `append()` we saw above and some string methods like `clear()`, `copy()` etc. You can find a list of all supported methods [in the documentation](https://docs.python.org/3/library/collections.html#deque-objects). \n",
    "\n",
    "I mentioned about efficiency when introducing double-ended queue. While normal queues only support appending to the right end and removal from the left end, double-ended queues need to perform both operations at both ends. To allow for this, the underlying implementation of `deque` is done using a doubly linked list whereas queues are implemented using a singly linked list. This is an implementation detail and something you don't have to worry about when using `deque` but if you are interested in learning about what the differences are between these two types of linked lists and how this design choice affects the efficiency, see [this tutorial](https://realpython.com/linked-lists-python/)."
   ]
  },
  {
   "cell_type": "markdown",
   "metadata": {},
   "source": [
    "### namedtuple\n",
    "\n",
    "Named tuples are a subclass of tuples with the difference that it provides named fields along with indices for accessing elements. These named fields make the code more readable and they can be accessed using the dot notation, like `ntuple.field`. Similar to it's parent class `tuple`, it is immutable. \n",
    "\n",
    "We'll look at an example below. We worked quite a bit with BLAST results throughout the semester. You'll probably agree that it is painful to remember which columns correspond to which fields to index them. Let us recreate that using named tuples to see how it makes it more convenient:"
   ]
  },
  {
   "cell_type": "code",
   "execution_count": 10,
   "metadata": {},
   "outputs": [],
   "source": [
    "from collections import namedtuple\n",
    "\n",
    "BlastOutput = namedtuple(\"BlastOutput\", [\"qseqid\", \"sseqid\", \"pident\", \"length\", \"mismatch\", \"gapopen\", \"qstart\", \"qend\", \"sstart\", \"send\", \"evalue\", \"bitscore\", \"qlen\"])\n",
    "blast_named_tuple = BlastOutput(\"sp|P09835|UHPB_ECOLI|311-499\", \"NC_000913.3\", 100.000, 189, 0, 0, 1, 189, 3849206, 3848640, 2.63e-95, 300, 189)"
   ]
  },
  {
   "cell_type": "markdown",
   "metadata": {},
   "source": [
    "Before we access the elements inside the tuple, let us first understand the above syntax. `namedtuple()` is called the **factory function** which just means that it is a method used to create an object(here the named tuple object). The general syntax for creating a namedtuple which takes two mandatory arguments is as follows:\n",
    "\n",
    "`namedtuple(typename, field_names)`\n",
    "\n",
    "1. _typename_ - this is the name of the new tuple subclass(or named tuple class) that will be created. This new class creates tuple-like objects with fields that can be looked up using their named attributes or indices as with normal tuples. In the example above, this is \"BlastOutput\".\n",
    "2. _field_names_ - list of field names used to access the elements in the tuple. They can be provided as a list of field names or a single string with each field name separated by whitespace or commas, for example, 'x y' or 'x, y'. The list containing BLAST headers above correspond to this argument."
   ]
  },
  {
   "cell_type": "code",
   "execution_count": 11,
   "metadata": {},
   "outputs": [
    {
     "name": "stdout",
     "output_type": "stream",
     "text": [
      "sp|P09835|UHPB_ECOLI|311-499\n",
      "sp|P09835|UHPB_ECOLI|311-499\n"
     ]
    }
   ],
   "source": [
    "print(blast_named_tuple.qseqid) #access using field name\n",
    "print(blast_named_tuple[0]) #access using index"
   ]
  },
  {
   "cell_type": "markdown",
   "metadata": {},
   "source": [
    "Since this is somewhat like a key-value pair, we can also directly pass dictionaries to create named tuples. I'll use a simpler example below to save some typing:"
   ]
  },
  {
   "cell_type": "code",
   "execution_count": 12,
   "metadata": {},
   "outputs": [
    {
     "name": "stdout",
     "output_type": "stream",
     "text": [
      "BedLine(seqid='NC_000913.3', start=1, stop=189)\n",
      "NC_000913.3\n"
     ]
    }
   ],
   "source": [
    "BedLine = namedtuple(\"BedLine\", [\"seqid\", \"start\", \"stop\"])\n",
    "\n",
    "bed_content = {\"seqid\": \"NC_000913.3\", \"start\": 1, \"stop\": 189}\n",
    "bedline = BedLine(**bed_content)\n",
    "\n",
    "print(bedline)\n",
    "print(bedline.seqid)"
   ]
  },
  {
   "cell_type": "markdown",
   "metadata": {},
   "source": [
    "You might remember the `**` syntax from the review session a few weeks back. It is just a way to unpack a dictionary into key-value pairs in a function call before passing it to the function.\n",
    "\n",
    "We can convert existing named tuple instances into dictionaries using `_asdict()` method which returns a new dictionary with field names as keys."
   ]
  },
  {
   "cell_type": "code",
   "execution_count": 13,
   "metadata": {},
   "outputs": [
    {
     "name": "stdout",
     "output_type": "stream",
     "text": [
      "{'qseqid': 'sp|P09835|UHPB_ECOLI|311-499', 'sseqid': 'NC_000913.3', 'pident': 100.0, 'length': 189, 'mismatch': 0, 'gapopen': 0, 'qstart': 1, 'qend': 189, 'sstart': 3849206, 'send': 3848640, 'evalue': 2.63e-95, 'bitscore': 300, 'qlen': 189}\n"
     ]
    }
   ],
   "source": [
    "print(blast_named_tuple._asdict())"
   ]
  },
  {
   "cell_type": "markdown",
   "metadata": {},
   "source": [
    "Even though named tuples are immutable, they have a `_replace()` method to update the field values. However, it is important to keep in mind that this \"replace\" does not happen in place but creates a new copy of the object under the hood. "
   ]
  },
  {
   "cell_type": "code",
   "execution_count": 14,
   "metadata": {},
   "outputs": [
    {
     "name": "stdout",
     "output_type": "stream",
     "text": [
      "BedLine(seqid='NC_000913.3', start=1, stop=189)\n",
      "139772164152976\n"
     ]
    }
   ],
   "source": [
    "print(bedline)\n",
    "print(id(bedline)) #prints memory address of the object"
   ]
  },
  {
   "cell_type": "code",
   "execution_count": 15,
   "metadata": {},
   "outputs": [
    {
     "name": "stdout",
     "output_type": "stream",
     "text": [
      "BedLine(seqid='NC_000913.3', start=0, stop=189)\n",
      "139772164153936\n"
     ]
    }
   ],
   "source": [
    "bedline = bedline._replace(start=0) #BED file is 0-based!\n",
    "\n",
    "print(bedline)\n",
    "print(id(bedline))"
   ]
  },
  {
   "cell_type": "markdown",
   "metadata": {},
   "source": [
    "Notice the memory location is different even though the variable is still called \"bedline\".\n",
    "\n",
    "We can iterate over the elements as in a normal tuple but to get just the field names, we can use the `_fields` attribute."
   ]
  },
  {
   "cell_type": "code",
   "execution_count": 16,
   "metadata": {},
   "outputs": [
    {
     "name": "stdout",
     "output_type": "stream",
     "text": [
      "NC_000913.3\n",
      "0\n",
      "189\n"
     ]
    }
   ],
   "source": [
    "for cols in bedline:\n",
    "    print(cols)"
   ]
  },
  {
   "cell_type": "code",
   "execution_count": 17,
   "metadata": {},
   "outputs": [
    {
     "name": "stdout",
     "output_type": "stream",
     "text": [
      "seqid\n",
      "start\n",
      "stop\n"
     ]
    }
   ],
   "source": [
    "for fields in bedline._fields:\n",
    "    print(fields)"
   ]
  },
  {
   "cell_type": "markdown",
   "metadata": {},
   "source": [
    "Finally, named tuples provide a convenient way to access the fields using names similar to dictionaries instead of indices, but the big difference is that they are immutable. [The documentation](https://docs.python.org/3/library/collections.html#namedtuple-factory-function-for-tuples-with-named-fields) has more details and examples on the other supported methods and attributes."
   ]
  },
  {
   "cell_type": "markdown",
   "metadata": {},
   "source": [
    "### defaultdict\n",
    "\n",
    "`defaultdict` is a subclass of the `dict` class which returns a dictionary-like object. However, the only difference in terms of its functionality is that it does not throw a `KeyError` if we provide an illegal/missing key. Instead, it **automatically** creates the key and provides it a default value. Prof. Collins introduced it during the review session on Thursday but let us dive deeper into its features.\n",
    "\n",
    "Apart from handling missing keys automatically, a compelling reason to use `defaultdict` over `dict` is counting the number of elements in an iterable. With `dict`, we first need an `if` conditional to check if the key is present, and if not, manually initialize it to zero and then increment the count on encountering the key again:"
   ]
  },
  {
   "cell_type": "code",
   "execution_count": 18,
   "metadata": {},
   "outputs": [
    {
     "name": "stdout",
     "output_type": "stream",
     "text": [
      "A: 10\n",
      "G: 6\n",
      "T: 7\n",
      "C: 5\n"
     ]
    }
   ],
   "source": [
    "seq = 'AGTACTAGACATAATGCCCGTGAGATTA'\n",
    "\n",
    "count_dict = {}\n",
    "\n",
    "for base in seq:\n",
    "    if base not in count_dict:\n",
    "        count_dict[base] = 0\n",
    "    count_dict[base] += 1\n",
    "\n",
    "for k, v in count_dict.items():\n",
    "    print(f\"{k}: {v}\")"
   ]
  },
  {
   "cell_type": "markdown",
   "metadata": {},
   "source": [
    "However, `defaultdict` eliminates the need of the `if` conditional because missing keys have a \"default\" value associated with them(we'll understand the syntax for creating `defaultdict` in a minute). So we can rewrite the above code using `defaultdict` as follows:"
   ]
  },
  {
   "cell_type": "code",
   "execution_count": 19,
   "metadata": {},
   "outputs": [
    {
     "name": "stdout",
     "output_type": "stream",
     "text": [
      "A: 10\n",
      "G: 6\n",
      "T: 7\n",
      "C: 5\n"
     ]
    }
   ],
   "source": [
    "from collections import defaultdict\n",
    "\n",
    "count_ddict = defaultdict(int)\n",
    "for base in seq:\n",
    "    count_ddict[base] += 1\n",
    "\n",
    "for k, v in count_ddict.items():\n",
    "    print(f\"{k}: {v}\")"
   ]
  },
  {
   "cell_type": "markdown",
   "metadata": {},
   "source": [
    "Next, let us see how `defaultdict` handles missing keys. Before that, keep in mind that `dict`s also provide ways to supply a default value for missing keys. `setdefault()` and `get()` are two such methods that take a key as an argument. If the key exists, the corresponding value is returned. If not, it assigns the default value(provided as the optional second argument) and returns that value or `None` if the default value is not provided. The difference is that `setdefault()` updates the dictionary but `get()` does not."
   ]
  },
  {
   "cell_type": "code",
   "execution_count": 20,
   "metadata": {},
   "outputs": [
    {
     "ename": "KeyError",
     "evalue": "4",
     "output_type": "error",
     "traceback": [
      "\u001b[0;31m---------------------------------------------------------------------------\u001b[0m",
      "\u001b[0;31mKeyError\u001b[0m                                  Traceback (most recent call last)",
      "Cell \u001b[0;32mIn[20], line 2\u001b[0m\n\u001b[1;32m      1\u001b[0m some_dict \u001b[38;5;241m=\u001b[39m {\u001b[38;5;241m1\u001b[39m: \u001b[38;5;124m'\u001b[39m\u001b[38;5;124ma\u001b[39m\u001b[38;5;124m'\u001b[39m, \u001b[38;5;241m2\u001b[39m: \u001b[38;5;124m'\u001b[39m\u001b[38;5;124mb\u001b[39m\u001b[38;5;124m'\u001b[39m, \u001b[38;5;241m3\u001b[39m: \u001b[38;5;124m'\u001b[39m\u001b[38;5;124mc\u001b[39m\u001b[38;5;124m'\u001b[39m}\n\u001b[0;32m----> 2\u001b[0m \u001b[38;5;28mprint\u001b[39m(\u001b[43msome_dict\u001b[49m\u001b[43m[\u001b[49m\u001b[38;5;241;43m4\u001b[39;49m\u001b[43m]\u001b[49m)\n",
      "\u001b[0;31mKeyError\u001b[0m: 4"
     ]
    }
   ],
   "source": [
    "some_dict = {1: 'a', 2: 'b', 3: 'c'}\n",
    "print(some_dict[4])"
   ]
  },
  {
   "cell_type": "code",
   "execution_count": 21,
   "metadata": {},
   "outputs": [
    {
     "name": "stdout",
     "output_type": "stream",
     "text": [
      "d\n",
      "{1: 'a', 2: 'b', 3: 'c', 4: 'd'}\n"
     ]
    }
   ],
   "source": [
    "some_dict.setdefault(4, 'd') #for key that doesn't exist\n",
    "print(some_dict[4])\n",
    "\n",
    "print(some_dict)"
   ]
  },
  {
   "cell_type": "code",
   "execution_count": 22,
   "metadata": {},
   "outputs": [
    {
     "name": "stdout",
     "output_type": "stream",
     "text": [
      "None\n",
      "{1: 'a', 2: 'b', 3: 'c', 4: 'd', 8: None}\n"
     ]
    }
   ],
   "source": [
    "some_dict.setdefault(8,) #without default value\n",
    "print(some_dict[8])\n",
    "\n",
    "print(some_dict)"
   ]
  },
  {
   "cell_type": "code",
   "execution_count": 23,
   "metadata": {},
   "outputs": [
    {
     "name": "stdout",
     "output_type": "stream",
     "text": [
      "c\n",
      "{1: 'a', 2: 'b', 3: 'c', 4: 'd', 8: None}\n"
     ]
    }
   ],
   "source": [
    "some_dict.setdefault(3, 'd') #for key that exists\n",
    "print(some_dict[3])\n",
    "\n",
    "print(some_dict)"
   ]
  },
  {
   "cell_type": "code",
   "execution_count": 24,
   "metadata": {},
   "outputs": [
    {
     "name": "stdout",
     "output_type": "stream",
     "text": [
      "e\n"
     ]
    }
   ],
   "source": [
    "print(some_dict.get(5, 'e')) #for key that doesn't exist"
   ]
  },
  {
   "cell_type": "code",
   "execution_count": 25,
   "metadata": {},
   "outputs": [
    {
     "name": "stdout",
     "output_type": "stream",
     "text": [
      "None\n"
     ]
    }
   ],
   "source": [
    "print(some_dict.get(9,)) #without default value"
   ]
  },
  {
   "cell_type": "code",
   "execution_count": 26,
   "metadata": {},
   "outputs": [
    {
     "name": "stdout",
     "output_type": "stream",
     "text": [
      "c\n"
     ]
    }
   ],
   "source": [
    "print(some_dict.get(3, 'e')) #for key that exists"
   ]
  },
  {
   "cell_type": "code",
   "execution_count": 27,
   "metadata": {},
   "outputs": [
    {
     "name": "stdout",
     "output_type": "stream",
     "text": [
      "{1: 'a', 2: 'b', 3: 'c', 4: 'd', 8: None}\n"
     ]
    }
   ],
   "source": [
    "print(some_dict)"
   ]
  },
  {
   "cell_type": "markdown",
   "metadata": {},
   "source": [
    "`defaultdict` makes it easier to handle this missing-key scenario without any explicit instructions. We can create a `defaultdict` using `defaultdict()` method with one argument called `default_factory` that takes a valid Python callable, writable argument or `None`. If `None` is provided or no arguments are passed, it behaves as a normal dictionary. Let us look at an example:"
   ]
  },
  {
   "cell_type": "code",
   "execution_count": 28,
   "metadata": {},
   "outputs": [
    {
     "ename": "KeyError",
     "evalue": "'a'",
     "output_type": "error",
     "traceback": [
      "\u001b[0;31m---------------------------------------------------------------------------\u001b[0m",
      "\u001b[0;31mKeyError\u001b[0m                                  Traceback (most recent call last)",
      "Cell \u001b[0;32mIn[28], line 3\u001b[0m\n\u001b[1;32m      1\u001b[0m none_dict \u001b[38;5;241m=\u001b[39m defaultdict() \u001b[38;5;66;03m#equivalent to defaultdict(None)\u001b[39;00m\n\u001b[0;32m----> 3\u001b[0m \u001b[43mnone_dict\u001b[49m\u001b[43m[\u001b[49m\u001b[38;5;124;43m'\u001b[39;49m\u001b[38;5;124;43ma\u001b[39;49m\u001b[38;5;124;43m'\u001b[39;49m\u001b[43m]\u001b[49m\n",
      "\u001b[0;31mKeyError\u001b[0m: 'a'"
     ]
    }
   ],
   "source": [
    "none_dict = defaultdict() #equivalent to defaultdict(None)\n",
    "\n",
    "none_dict['a']"
   ]
  },
  {
   "cell_type": "code",
   "execution_count": 29,
   "metadata": {},
   "outputs": [
    {
     "name": "stdout",
     "output_type": "stream",
     "text": [
      "[]\n"
     ]
    }
   ],
   "source": [
    "ddict = defaultdict(list)\n",
    "print(ddict['a'])"
   ]
  },
  {
   "cell_type": "code",
   "execution_count": 30,
   "metadata": {},
   "outputs": [
    {
     "name": "stdout",
     "output_type": "stream",
     "text": [
      "defaultdict(<class 'list'>, {'a': ['aa', 'aaa']})\n",
      "['aa', 'aaa']\n"
     ]
    }
   ],
   "source": [
    "ddict['a'].append('aa')\n",
    "ddict['a'].append('aaa')\n",
    "\n",
    "print(ddict)\n",
    "print(ddict['a'])"
   ]
  },
  {
   "cell_type": "markdown",
   "metadata": {},
   "source": [
    "We are passing `list` as the callable argument, so the `defaultdict` is initialized with an empty list if the key is missing. We can now deal with this dictionary as a normal dictionary. If we initialize the `defaultdict` with a container data type, the default value is a corresponding empty data type and if its initialized with a numerical data type, the default value is 0."
   ]
  },
  {
   "cell_type": "code",
   "execution_count": 31,
   "metadata": {},
   "outputs": [
    {
     "name": "stdout",
     "output_type": "stream",
     "text": [
      "set()\n"
     ]
    }
   ],
   "source": [
    "ddict_set = defaultdict(set)\n",
    "print(ddict_set['a'])"
   ]
  },
  {
   "cell_type": "code",
   "execution_count": 32,
   "metadata": {},
   "outputs": [
    {
     "name": "stdout",
     "output_type": "stream",
     "text": [
      "0\n"
     ]
    }
   ],
   "source": [
    "ddict_int = defaultdict(int)\n",
    "print(ddict_int['a'])"
   ]
  },
  {
   "cell_type": "markdown",
   "metadata": {},
   "source": [
    "Let us look at some applications of `defaultdict` below:\n",
    "\n",
    "##### Grouping items together\n",
    "Suppose we have a list of words and want to create a dictionary with the first letter as the key and a list of all words that start with that letter as values:"
   ]
  },
  {
   "cell_type": "code",
   "execution_count": 33,
   "metadata": {},
   "outputs": [
    {
     "name": "stdout",
     "output_type": "stream",
     "text": [
      "p: ['pen', 'pencil']\n",
      "l: ['laptop']\n",
      "b: ['book', 'bottle']\n"
     ]
    }
   ],
   "source": [
    "word_list = [\"pen\", \"laptop\", \"pencil\", \"book\", \"bottle\"]\n",
    "\n",
    "word_ddict = defaultdict(list)\n",
    "for word in word_list:\n",
    "    word_ddict[word[0]].append(word)\n",
    "\n",
    "for k, v in word_ddict.items():\n",
    "    print(f\"{k}: {v}\")"
   ]
  },
  {
   "cell_type": "markdown",
   "metadata": {},
   "source": [
    "We'll look at another variant of grouping items. Say we had some counts data associated with items and we want to aggregate all the counts for each item:"
   ]
  },
  {
   "cell_type": "code",
   "execution_count": 34,
   "metadata": {},
   "outputs": [
    {
     "name": "stdout",
     "output_type": "stream",
     "text": [
      "item1: 64\n",
      "item2: 197\n",
      "item3: 83\n",
      "item4: 50\n"
     ]
    }
   ],
   "source": [
    "counts_list = [ (\"item1\", 10), (\"item2\", 23), (\"item3\", 18), (\"item1\", 42), (\"item4\", 11), (\"item2\", 93), (\"item4\", 39),  (\"item3\", 61), \n",
    "               (\"item1\", 12), (\"item3\", 4), (\"item2\", 81)]\n",
    "\n",
    "sum_ddict = defaultdict(int) #initialized with int\n",
    "\n",
    "for items in counts_list:\n",
    "    sum_ddict[items[0]] += items[1]\n",
    "\n",
    "for k, v in sum_ddict.items():\n",
    "    print(f\"{k}: {v}\")"
   ]
  },
  {
   "cell_type": "markdown",
   "metadata": {},
   "source": [
    "##### Counting the number of occurrences\n",
    "\n",
    "We already saw an example of this at the beginning of this section. We'll look at another example of counting the number of times each item appears in the counts_list from above:"
   ]
  },
  {
   "cell_type": "code",
   "execution_count": 35,
   "metadata": {},
   "outputs": [
    {
     "name": "stdout",
     "output_type": "stream",
     "text": [
      "item1: 3\n",
      "item2: 3\n",
      "item3: 3\n",
      "item4: 2\n"
     ]
    }
   ],
   "source": [
    "count_ddict = defaultdict(int)\n",
    "\n",
    "for items in counts_list:\n",
    "    count_ddict[items[0]] += 1\n",
    "\n",
    "for k, v in count_ddict.items():\n",
    "    print(f\"{k}: {v}\")"
   ]
  },
  {
   "cell_type": "markdown",
   "metadata": {},
   "source": [
    "Before we move on, let us build on our example on k-mers. Earlier, we only identified and printed the 3-mers of a sequence using `deque` but in practice, k-mers are used in a lookup table with k-mer as the key and the list of indices where they appear as values. Let us use `defaultdict` to create that lookup table:"
   ]
  },
  {
   "cell_type": "code",
   "execution_count": 36,
   "metadata": {},
   "outputs": [
    {
     "name": "stdout",
     "output_type": "stream",
     "text": [
      "AGTCTAGCTCTAGC\n",
      "AGT: [0]\n",
      "GTC: [1]\n",
      "TCT: [2, 8]\n",
      "CTA: [3, 9]\n",
      "TAG: [4, 10]\n",
      "AGC: [5, 11]\n",
      "GCT: [6]\n",
      "CTC: [7]\n"
     ]
    }
   ],
   "source": [
    "seq = \"AGTCTAGCTCTAGC\"\n",
    "print(seq)\n",
    "k = 3\n",
    "\n",
    "dq_seq = deque(\"\", maxlen = k)\n",
    "kmer_ddict = defaultdict(list)\n",
    "\n",
    "for i in range(0, len(seq)):\n",
    "    dq_seq.append(seq[i]) #keep only 3 bases at any point\n",
    "    if len(dq_seq) != k: #fill up the entire deque to get 'k' length k-mer\n",
    "        continue\n",
    "    kmer = \"\".join(dq_seq)\n",
    "    kmer_ddict[kmer].append(i-(k-1))\n",
    "\n",
    "for k, v in kmer_ddict.items():\n",
    "    print(f\"{k}: {v}\")"
   ]
  },
  {
   "cell_type": "markdown",
   "metadata": {},
   "source": [
    "### Counter\n",
    "\n",
    "We frequently encounter problems that require counting the number of ocurrences in a collection of elements. While we saw using `defaultdict` is a more convenient way of counting elements compared to `dict`, `collections` module provides `Counter` class which simplifies this even further. `Counter` is a subclass of `dict` that is specially designed for counting immutable and hashable objects. Let us look at an example:"
   ]
  },
  {
   "cell_type": "code",
   "execution_count": 37,
   "metadata": {},
   "outputs": [
    {
     "name": "stdout",
     "output_type": "stream",
     "text": [
      "Counter({'A': 10, 'T': 7, 'G': 6, 'C': 5})\n"
     ]
    }
   ],
   "source": [
    "from collections import Counter\n",
    "\n",
    "counter = Counter('AGTACTAGACATAATGCCCGTGAGATTA')\n",
    "print(counter)"
   ]
  },
  {
   "cell_type": "markdown",
   "metadata": {},
   "source": [
    "We can achieve the same thing in a single line of code using `Counter`. This class takes any iterable containing immutable elements and returns the count of elements. We require the elements to be hashable(returns the same hash at all times) and immutable to ensure the count value returned is consistent. Additionally, as its underlying implementation involves a dictionary, the keys need to be immutable. "
   ]
  },
  {
   "cell_type": "code",
   "execution_count": 38,
   "metadata": {},
   "outputs": [
    {
     "ename": "TypeError",
     "evalue": "unhashable type: 'list'",
     "output_type": "error",
     "traceback": [
      "\u001b[0;31m---------------------------------------------------------------------------\u001b[0m",
      "\u001b[0;31mTypeError\u001b[0m                                 Traceback (most recent call last)",
      "Cell \u001b[0;32mIn[38], line 1\u001b[0m\n\u001b[0;32m----> 1\u001b[0m counter_nested_list \u001b[38;5;241m=\u001b[39m \u001b[43mCounter\u001b[49m\u001b[43m(\u001b[49m\u001b[43m[\u001b[49m\u001b[43m[\u001b[49m\u001b[38;5;241;43m1\u001b[39;49m\u001b[43m]\u001b[49m\u001b[43m,\u001b[49m\u001b[43m \u001b[49m\u001b[43m[\u001b[49m\u001b[38;5;241;43m2\u001b[39;49m\u001b[43m]\u001b[49m\u001b[43m,\u001b[49m\u001b[43m \u001b[49m\u001b[43m[\u001b[49m\u001b[38;5;241;43m1\u001b[39;49m\u001b[43m]\u001b[49m\u001b[43m,\u001b[49m\u001b[43m \u001b[49m\u001b[43m[\u001b[49m\u001b[38;5;241;43m3\u001b[39;49m\u001b[43m]\u001b[49m\u001b[43m,\u001b[49m\u001b[43m \u001b[49m\u001b[43m[\u001b[49m\u001b[38;5;241;43m2\u001b[39;49m\u001b[43m]\u001b[49m\u001b[43m]\u001b[49m\u001b[43m)\u001b[49m \u001b[38;5;66;03m#list is mutable\u001b[39;00m\n\u001b[1;32m      2\u001b[0m \u001b[38;5;28mprint\u001b[39m(counter_nested_list)\n",
      "File \u001b[0;32m~/mambaforge/envs/biol7200/lib/python3.12/collections/__init__.py:607\u001b[0m, in \u001b[0;36mCounter.__init__\u001b[0;34m(self, iterable, **kwds)\u001b[0m\n\u001b[1;32m    596\u001b[0m \u001b[38;5;250m\u001b[39m\u001b[38;5;124;03m'''Create a new, empty Counter object.  And if given, count elements\u001b[39;00m\n\u001b[1;32m    597\u001b[0m \u001b[38;5;124;03mfrom an input iterable.  Or, initialize the count from another mapping\u001b[39;00m\n\u001b[1;32m    598\u001b[0m \u001b[38;5;124;03mof elements to their counts.\u001b[39;00m\n\u001b[0;32m   (...)\u001b[0m\n\u001b[1;32m    604\u001b[0m \n\u001b[1;32m    605\u001b[0m \u001b[38;5;124;03m'''\u001b[39;00m\n\u001b[1;32m    606\u001b[0m \u001b[38;5;28msuper\u001b[39m()\u001b[38;5;241m.\u001b[39m\u001b[38;5;21m__init__\u001b[39m()\n\u001b[0;32m--> 607\u001b[0m \u001b[38;5;28;43mself\u001b[39;49m\u001b[38;5;241;43m.\u001b[39;49m\u001b[43mupdate\u001b[49m\u001b[43m(\u001b[49m\u001b[43miterable\u001b[49m\u001b[43m,\u001b[49m\u001b[43m \u001b[49m\u001b[38;5;241;43m*\u001b[39;49m\u001b[38;5;241;43m*\u001b[39;49m\u001b[43mkwds\u001b[49m\u001b[43m)\u001b[49m\n",
      "File \u001b[0;32m~/mambaforge/envs/biol7200/lib/python3.12/collections/__init__.py:699\u001b[0m, in \u001b[0;36mCounter.update\u001b[0;34m(self, iterable, **kwds)\u001b[0m\n\u001b[1;32m    697\u001b[0m             \u001b[38;5;28msuper\u001b[39m()\u001b[38;5;241m.\u001b[39mupdate(iterable)\n\u001b[1;32m    698\u001b[0m     \u001b[38;5;28;01melse\u001b[39;00m:\n\u001b[0;32m--> 699\u001b[0m         \u001b[43m_count_elements\u001b[49m\u001b[43m(\u001b[49m\u001b[38;5;28;43mself\u001b[39;49m\u001b[43m,\u001b[49m\u001b[43m \u001b[49m\u001b[43miterable\u001b[49m\u001b[43m)\u001b[49m\n\u001b[1;32m    700\u001b[0m \u001b[38;5;28;01mif\u001b[39;00m kwds:\n\u001b[1;32m    701\u001b[0m     \u001b[38;5;28mself\u001b[39m\u001b[38;5;241m.\u001b[39mupdate(kwds)\n",
      "\u001b[0;31mTypeError\u001b[0m: unhashable type: 'list'"
     ]
    }
   ],
   "source": [
    "counter_nested_list = Counter([[1], [2], [1], [3], [2]]) #list is mutable\n",
    "print(counter_nested_list)"
   ]
  },
  {
   "cell_type": "code",
   "execution_count": 39,
   "metadata": {},
   "outputs": [
    {
     "name": "stdout",
     "output_type": "stream",
     "text": [
      "Counter({1: 6, 2: 3, 3: 3, 4: 2})\n"
     ]
    }
   ],
   "source": [
    "counter_list = Counter([1,2,1,3,4,1,2,3,1,1,4,3,1,2]) #ints are immutable\n",
    "print(counter_list)"
   ]
  },
  {
   "cell_type": "markdown",
   "metadata": {},
   "source": [
    "`Counter` objects supports methods like `update()` and `subtract()` to modify the counts if required."
   ]
  },
  {
   "cell_type": "code",
   "execution_count": 40,
   "metadata": {},
   "outputs": [
    {
     "name": "stdout",
     "output_type": "stream",
     "text": [
      "Counter({1: 6, 2: 4, 4: 2, 3: 1})\n"
     ]
    }
   ],
   "source": [
    "counter_list.update({2:1, 3:-2}) #adds to the existing counts\n",
    "print(counter_list)"
   ]
  },
  {
   "cell_type": "code",
   "execution_count": 41,
   "metadata": {},
   "outputs": [
    {
     "name": "stdout",
     "output_type": "stream",
     "text": [
      "Counter({2: 4, 1: 3, 3: 2, 4: 0})\n"
     ]
    }
   ],
   "source": [
    "counter_list.subtract({1:3, 3:-1, 4:2}) #subtracts from existing counts\n",
    "print(counter_list)"
   ]
  },
  {
   "cell_type": "markdown",
   "metadata": {},
   "source": [
    "Note that the order of the elements was changed to keep them in the descending order of counts. \n",
    "\n",
    "To get the iterable back from a `Counter` object, we can use `elements()` method."
   ]
  },
  {
   "cell_type": "code",
   "execution_count": 42,
   "metadata": {},
   "outputs": [
    {
     "name": "stdout",
     "output_type": "stream",
     "text": [
      "1\n",
      "1\n",
      "1\n",
      "2\n",
      "2\n",
      "2\n",
      "2\n",
      "3\n",
      "3\n"
     ]
    }
   ],
   "source": [
    "for ele in counter_list.elements():\n",
    "    print(ele)"
   ]
  },
  {
   "cell_type": "markdown",
   "metadata": {},
   "source": [
    "You can refer [the  documentation](https://docs.python.org/3/library/collections.html#counter-objects) to find more such useful methods."
   ]
  },
  {
   "cell_type": "markdown",
   "metadata": {},
   "source": [
    "### OrderedDict\n",
    "\n",
    "`OrderedDict` is a subclass of `dict` that specializes in remembering and rearranging dictionary order. Ordered dictionaries are just like regular dictionaries but have some extra capabilities relating to ordering operations. Historically, the order of insertion of keys in a `dict` was not guaranteed to be conserved which is why `OrderedDict` was implemented. However, from Python version 3.7 onwards, `dict` guarantees the conservation of the order and hence `OrderedDict` has become less popular. But there are several reasons why we may still want to use `OrderedDict`s:\n",
    "\n",
    "* When using `OrderedDict` instead of a `dict`, it is implied that the order of the keys is somehow important. The [**Zen of Python**](https://peps.python.org/pep-0020/) advocates \"Explicit is better than implicit\".\n",
    "* `dict`s are optimized for mapping operations. Tracking insertion orders is a secondary consideration. However, `Orderdicts` are optimized for reordering operations and can handle reordering operations better than `dicts`. We'll see some methods that provide reordering capabilities in a minute.\n",
    "* When comparing `dict`s using `==`, only the contents are compared and not the order. If the order of the insertions is also crucial for comparison, we should use `OrderedDict`.\n",
    "\n",
    "Let us look at some examples:"
   ]
  },
  {
   "cell_type": "code",
   "execution_count": 43,
   "metadata": {},
   "outputs": [
    {
     "name": "stdout",
     "output_type": "stream",
     "text": [
      "OrderedDict({'first': 1, 'second': 2, 'third': 3, 'fourth': 4})\n"
     ]
    }
   ],
   "source": [
    "from collections import OrderedDict\n",
    "\n",
    "odict = OrderedDict()\n",
    "\n",
    "odict[\"first\"] = 1\n",
    "odict[\"second\"] = 2\n",
    "odict[\"third\"] = 3\n",
    "odict[\"fourth\"] = 4\n",
    "\n",
    "print(odict)"
   ]
  },
  {
   "cell_type": "markdown",
   "metadata": {},
   "source": [
    "We can reorder using `move_to_end()` method and remove items from either end of `OrderedDict` instances using `popitem()`."
   ]
  },
  {
   "cell_type": "code",
   "execution_count": 44,
   "metadata": {},
   "outputs": [
    {
     "name": "stdout",
     "output_type": "stream",
     "text": [
      "OrderedDict({'second': 2, 'third': 3, 'fourth': 4, 'first': 1})\n"
     ]
    }
   ],
   "source": [
    "odict.move_to_end(\"first\") #move to right end\n",
    "print(odict)"
   ]
  },
  {
   "cell_type": "code",
   "execution_count": 45,
   "metadata": {},
   "outputs": [
    {
     "name": "stdout",
     "output_type": "stream",
     "text": [
      "OrderedDict({'first': 1, 'second': 2, 'third': 3, 'fourth': 4})\n"
     ]
    }
   ],
   "source": [
    "odict.move_to_end(\"first\", last = False) #move to left end\n",
    "print(odict)"
   ]
  },
  {
   "cell_type": "code",
   "execution_count": 46,
   "metadata": {},
   "outputs": [
    {
     "name": "stdout",
     "output_type": "stream",
     "text": [
      "OrderedDict({'first': 1, 'second': 2, 'third': 3})\n"
     ]
    }
   ],
   "source": [
    "odict.popitem() #removes from right end\n",
    "print(odict)"
   ]
  },
  {
   "cell_type": "code",
   "execution_count": 47,
   "metadata": {},
   "outputs": [
    {
     "name": "stdout",
     "output_type": "stream",
     "text": [
      "OrderedDict({'second': 2, 'third': 3})\n"
     ]
    }
   ],
   "source": [
    "odict.popitem(last = False) #removes from left end\n",
    "print(odict)"
   ]
  },
  {
   "cell_type": "markdown",
   "metadata": {},
   "source": [
    "We'll check the equality of `dict` instance versus a `OrderedDict` instance with different orders of elements:"
   ]
  },
  {
   "cell_type": "code",
   "execution_count": 48,
   "metadata": {},
   "outputs": [
    {
     "data": {
      "text/plain": [
       "True"
      ]
     },
     "execution_count": 48,
     "metadata": {},
     "output_type": "execute_result"
    }
   ],
   "source": [
    "dict(first = 1, second = 2, third = 3) == dict(first = 1, third = 3, second = 2)"
   ]
  },
  {
   "cell_type": "code",
   "execution_count": 49,
   "metadata": {},
   "outputs": [
    {
     "data": {
      "text/plain": [
       "False"
      ]
     },
     "execution_count": 49,
     "metadata": {},
     "output_type": "execute_result"
    }
   ],
   "source": [
    "OrderedDict(first = 1, second = 2, third = 3) == OrderedDict(first = 1, third = 3, second = 2)"
   ]
  },
  {
   "cell_type": "markdown",
   "metadata": {},
   "source": [
    "While `dict` only compares the content of the dictionary, `OrderedDict` also compares the order of elements. If we don't care about the order, we can stick with `dict`."
   ]
  },
  {
   "cell_type": "markdown",
   "metadata": {},
   "source": [
    "### ChainMap\n",
    "\n",
    "`ChainMap` class provides the flexibility to group multiple dictionaries(or mappings) so that we can interact with them as a single unit. To understand that better, we'll into an example first:"
   ]
  },
  {
   "cell_type": "code",
   "execution_count": 50,
   "metadata": {},
   "outputs": [
    {
     "name": "stdout",
     "output_type": "stream",
     "text": [
      "ChainMap({'a': 1, 'b': 2, 'c': 3}, {'b': 10, 'c': 20, 'd': 30})\n"
     ]
    }
   ],
   "source": [
    "from collections import ChainMap\n",
    "\n",
    "dict1 = {'a': 1, 'b': 2, 'c': 3}\n",
    "dict2 = {'b': 10, 'c': 20, 'd': 30}\n",
    "\n",
    "cmap = ChainMap(dict1, dict2)\n",
    "\n",
    "print(cmap)"
   ]
  },
  {
   "cell_type": "markdown",
   "metadata": {},
   "source": [
    "If we try to access keys from the dictionaries, it works as usual. But when we access overlapping keys in `ChainMap` object, what does that return?"
   ]
  },
  {
   "cell_type": "code",
   "execution_count": 51,
   "metadata": {},
   "outputs": [
    {
     "name": "stdout",
     "output_type": "stream",
     "text": [
      "2\n",
      "10\n"
     ]
    }
   ],
   "source": [
    "print(dict1['b'])\n",
    "print(dict2['b'])"
   ]
  },
  {
   "cell_type": "code",
   "execution_count": 52,
   "metadata": {},
   "outputs": [
    {
     "name": "stdout",
     "output_type": "stream",
     "text": [
      "2\n"
     ]
    }
   ],
   "source": [
    "print(cmap['b'])"
   ]
  },
  {
   "cell_type": "markdown",
   "metadata": {},
   "source": [
    "So it returns the value from the dict1 as that is the first argument we passed when creating the `ChainMap()` instance. Let us confirm this by changing the order of the dictionaries:"
   ]
  },
  {
   "cell_type": "code",
   "execution_count": 53,
   "metadata": {},
   "outputs": [
    {
     "name": "stdout",
     "output_type": "stream",
     "text": [
      "ChainMap({'b': 10, 'c': 20, 'd': 30}, {'a': 1, 'b': 2, 'c': 3})\n",
      "10\n"
     ]
    }
   ],
   "source": [
    "cmap_rev = ChainMap(dict2, dict1)\n",
    "\n",
    "print(cmap_rev)\n",
    "print(cmap_rev['b'])"
   ]
  },
  {
   "cell_type": "markdown",
   "metadata": {},
   "source": [
    "Now we see it returns a value from dict2. So why do we care about the order and `ChainMap` as a whole? \n",
    "\n",
    "When we create multiple dictionaries like these, it is possible to separate the data. In other words, we can have duplicate keys because they are essentially different `dict` objects but by creating a \"chain\" of these dictionaries, we are creating a single interface to interact with all of the dictionaries. When we look up a key present only in one dictionary, it returns that value. However, if the key is repeated, the value returned depends on the order of dictionaries provided when creating the `ChainMap` object. If the key is not present, it throws `KeyError` as usual. This way, we can enforce some priority on key lookups in the dictionaries to control the context of the value returned. A practical example of this is how Python looks for variables. It first searches the local scope, then the global scope and finally the builtin variables. If the variable is defined in the local scope, it stops searching and returns it but if not, continues searching down the chain."
   ]
  },
  {
   "cell_type": "code",
   "execution_count": 54,
   "metadata": {},
   "outputs": [
    {
     "name": "stdout",
     "output_type": "stream",
     "text": [
      "b 2\n",
      "c 3\n",
      "d 30\n",
      "a 1\n"
     ]
    }
   ],
   "source": [
    "for k, v in cmap.items(): #when iterating, it goes from last to first dictionary\n",
    "    print(k, v)"
   ]
  },
  {
   "cell_type": "code",
   "execution_count": 55,
   "metadata": {},
   "outputs": [
    {
     "ename": "KeyError",
     "evalue": "'e'",
     "output_type": "error",
     "traceback": [
      "\u001b[0;31m---------------------------------------------------------------------------\u001b[0m",
      "\u001b[0;31mKeyError\u001b[0m                                  Traceback (most recent call last)",
      "Cell \u001b[0;32mIn[55], line 1\u001b[0m\n\u001b[0;32m----> 1\u001b[0m \u001b[38;5;28mprint\u001b[39m(\u001b[43mcmap\u001b[49m\u001b[43m[\u001b[49m\u001b[38;5;124;43m'\u001b[39;49m\u001b[38;5;124;43me\u001b[39;49m\u001b[38;5;124;43m'\u001b[39;49m\u001b[43m]\u001b[49m) \u001b[38;5;66;03m#key that does not exist\u001b[39;00m\n",
      "File \u001b[0;32m~/mambaforge/envs/biol7200/lib/python3.12/collections/__init__.py:1015\u001b[0m, in \u001b[0;36mChainMap.__getitem__\u001b[0;34m(self, key)\u001b[0m\n\u001b[1;32m   1013\u001b[0m     \u001b[38;5;28;01mexcept\u001b[39;00m \u001b[38;5;167;01mKeyError\u001b[39;00m:\n\u001b[1;32m   1014\u001b[0m         \u001b[38;5;28;01mpass\u001b[39;00m\n\u001b[0;32m-> 1015\u001b[0m \u001b[38;5;28;01mreturn\u001b[39;00m \u001b[38;5;28;43mself\u001b[39;49m\u001b[38;5;241;43m.\u001b[39;49m\u001b[38;5;21;43m__missing__\u001b[39;49m\u001b[43m(\u001b[49m\u001b[43mkey\u001b[49m\u001b[43m)\u001b[49m\n",
      "File \u001b[0;32m~/mambaforge/envs/biol7200/lib/python3.12/collections/__init__.py:1007\u001b[0m, in \u001b[0;36mChainMap.__missing__\u001b[0;34m(self, key)\u001b[0m\n\u001b[1;32m   1006\u001b[0m \u001b[38;5;28;01mdef\u001b[39;00m \u001b[38;5;21m__missing__\u001b[39m(\u001b[38;5;28mself\u001b[39m, key):\n\u001b[0;32m-> 1007\u001b[0m     \u001b[38;5;28;01mraise\u001b[39;00m \u001b[38;5;167;01mKeyError\u001b[39;00m(key)\n",
      "\u001b[0;31mKeyError\u001b[0m: 'e'"
     ]
    }
   ],
   "source": [
    "print(cmap['e']) #key that does not exist"
   ]
  },
  {
   "cell_type": "markdown",
   "metadata": {},
   "source": [
    "All the dictionaries in the `ChainMap` object are stored as a list in the `maps` attribute. So we can interact with them as we would with a normal `list`."
   ]
  },
  {
   "cell_type": "code",
   "execution_count": 56,
   "metadata": {},
   "outputs": [
    {
     "name": "stdout",
     "output_type": "stream",
     "text": [
      "[{'a': 1, 'b': 2, 'c': 3}, {'b': 10, 'c': 20, 'd': 30}]\n"
     ]
    }
   ],
   "source": [
    "print(cmap.maps)"
   ]
  },
  {
   "cell_type": "code",
   "execution_count": 57,
   "metadata": {},
   "outputs": [
    {
     "name": "stdout",
     "output_type": "stream",
     "text": [
      "ChainMap({'a': 1, 'b': 2, 'c': 3}, {'b': 10, 'c': 20, 'd': 30})\n",
      "ChainMap({'a': 1, 'b': 2, 'c': 3}, {'b': 10, 'c': 20, 'd': 30}, {'d': 30, 'e': 40})\n"
     ]
    }
   ],
   "source": [
    "print(cmap)\n",
    "\n",
    "cmap.maps.append({'d': 30, 'e': 40})\n",
    "print(cmap)"
   ]
  },
  {
   "cell_type": "markdown",
   "metadata": {},
   "source": [
    "`ChainMap` has two useful properties to update the order of the dictionaries passed: `new_child()`, a method to add to and `parents`, an attribute to remove a dictionary from the front of the object."
   ]
  },
  {
   "cell_type": "code",
   "execution_count": 58,
   "metadata": {},
   "outputs": [
    {
     "name": "stdout",
     "output_type": "stream",
     "text": [
      "ChainMap({'a': 1, 'b': 2, 'c': 3}, {'b': 10, 'c': 20, 'd': 30}, {'d': 30, 'e': 40})\n",
      "ChainMap({'a': 5, 'c': 13}, {'a': 1, 'b': 2, 'c': 3}, {'b': 10, 'c': 20, 'd': 30}, {'d': 30, 'e': 40})\n"
     ]
    }
   ],
   "source": [
    "print(cmap)\n",
    "\n",
    "cmap_new_child = cmap.new_child({'a': 5, 'c': 13})\n",
    "print(cmap_new_child)"
   ]
  },
  {
   "cell_type": "code",
   "execution_count": 59,
   "metadata": {},
   "outputs": [
    {
     "name": "stdout",
     "output_type": "stream",
     "text": [
      "ChainMap({'a': 1, 'b': 2, 'c': 3}, {'b': 10, 'c': 20, 'd': 30}, {'d': 30, 'e': 40})\n",
      "ChainMap({'b': 10, 'c': 20, 'd': 30}, {'d': 30, 'e': 40})\n"
     ]
    }
   ],
   "source": [
    "print(cmap)\n",
    "\n",
    "cmap_parents = cmap.parents\n",
    "print(cmap_parents)"
   ]
  },
  {
   "cell_type": "markdown",
   "metadata": {},
   "source": [
    "You can find a list of all the methods and attributes supported by `ChainMap` [here](https://docs.python.org/3/library/collections.html#chainmap-objects)."
   ]
  }
 ],
 "metadata": {
  "kernelspec": {
   "display_name": "Python 3 (ipykernel)",
   "language": "python",
   "name": "python3"
  },
  "language_info": {
   "codemirror_mode": {
    "name": "ipython",
    "version": 3
   },
   "file_extension": ".py",
   "mimetype": "text/x-python",
   "name": "python",
   "nbconvert_exporter": "python",
   "pygments_lexer": "ipython3",
   "version": "3.12.7"
  }
 },
 "nbformat": 4,
 "nbformat_minor": 4
}
